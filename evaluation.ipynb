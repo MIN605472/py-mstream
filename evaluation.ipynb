{
 "cells": [
  {
   "cell_type": "code",
   "execution_count": 1,
   "metadata": {},
   "outputs": [
    {
     "data": {
      "application/javascript": [
       "\n",
       "            setTimeout(function() {\n",
       "                var nbb_cell_id = 1;\n",
       "                var nbb_unformatted_code = \"%load_ext nb_black\\n%load_ext autoreload\\n%autoreload 2\";\n",
       "                var nbb_formatted_code = \"%load_ext nb_black\\n%load_ext autoreload\\n%autoreload 2\";\n",
       "                var nbb_cells = Jupyter.notebook.get_cells();\n",
       "                for (var i = 0; i < nbb_cells.length; ++i) {\n",
       "                    if (nbb_cells[i].input_prompt_number == nbb_cell_id) {\n",
       "                        if (nbb_cells[i].get_text() == nbb_unformatted_code) {\n",
       "                             nbb_cells[i].set_text(nbb_formatted_code);\n",
       "                        }\n",
       "                        break;\n",
       "                    }\n",
       "                }\n",
       "            }, 500);\n",
       "            "
      ],
      "text/plain": [
       "<IPython.core.display.Javascript object>"
      ]
     },
     "metadata": {},
     "output_type": "display_data"
    }
   ],
   "source": [
    "%load_ext nb_black\n",
    "%load_ext autoreload\n",
    "%autoreload 2"
   ]
  },
  {
   "cell_type": "code",
   "execution_count": 2,
   "metadata": {},
   "outputs": [
    {
     "data": {
      "application/javascript": [
       "\n",
       "            setTimeout(function() {\n",
       "                var nbb_cell_id = 2;\n",
       "                var nbb_unformatted_code = \"import json\\nimport os\\nimport time\\nimport math\\nimport matplotlib.pyplot as plt\\nimport numpy as np\\nfrom sklearn.metrics.cluster import normalized_mutual_info_score\\nfrom mstream.mstream import Mstream\\n\\nplt.style.use(\\\"ggplot\\\")\";\n",
       "                var nbb_formatted_code = \"import json\\nimport os\\nimport time\\nimport math\\nimport matplotlib.pyplot as plt\\nimport numpy as np\\nfrom sklearn.metrics.cluster import normalized_mutual_info_score\\nfrom mstream.mstream import Mstream\\n\\nplt.style.use(\\\"ggplot\\\")\";\n",
       "                var nbb_cells = Jupyter.notebook.get_cells();\n",
       "                for (var i = 0; i < nbb_cells.length; ++i) {\n",
       "                    if (nbb_cells[i].input_prompt_number == nbb_cell_id) {\n",
       "                        if (nbb_cells[i].get_text() == nbb_unformatted_code) {\n",
       "                             nbb_cells[i].set_text(nbb_formatted_code);\n",
       "                        }\n",
       "                        break;\n",
       "                    }\n",
       "                }\n",
       "            }, 500);\n",
       "            "
      ],
      "text/plain": [
       "<IPython.core.display.Javascript object>"
      ]
     },
     "metadata": {},
     "output_type": "display_data"
    }
   ],
   "source": [
    "import json\n",
    "import os\n",
    "import time\n",
    "import math\n",
    "import matplotlib.pyplot as plt\n",
    "import numpy as np\n",
    "from sklearn.metrics.cluster import normalized_mutual_info_score\n",
    "from mstream.mstream import Mstream\n",
    "\n",
    "plt.style.use(\"ggplot\")"
   ]
  },
  {
   "cell_type": "code",
   "execution_count": 4,
   "metadata": {},
   "outputs": [
    {
     "data": {
      "application/javascript": [
       "\n",
       "            setTimeout(function() {\n",
       "                var nbb_cell_id = 4;\n",
       "                var nbb_unformatted_code = \"DS_DIR = \\\"data\\\"\\nDS_NAMES = [\\\"News\\\", \\\"News-T\\\", \\\"Tweets\\\", \\\"Tweets-T\\\"]\\nDS_PATHS = [os.path.join(DS_DIR, ds_name) for ds_name in DS_NAMES]\";\n",
       "                var nbb_formatted_code = \"DS_DIR = \\\"data\\\"\\nDS_NAMES = [\\\"News\\\", \\\"News-T\\\", \\\"Tweets\\\", \\\"Tweets-T\\\"]\\nDS_PATHS = [os.path.join(DS_DIR, ds_name) for ds_name in DS_NAMES]\";\n",
       "                var nbb_cells = Jupyter.notebook.get_cells();\n",
       "                for (var i = 0; i < nbb_cells.length; ++i) {\n",
       "                    if (nbb_cells[i].input_prompt_number == nbb_cell_id) {\n",
       "                        if (nbb_cells[i].get_text() == nbb_unformatted_code) {\n",
       "                             nbb_cells[i].set_text(nbb_formatted_code);\n",
       "                        }\n",
       "                        break;\n",
       "                    }\n",
       "                }\n",
       "            }, 500);\n",
       "            "
      ],
      "text/plain": [
       "<IPython.core.display.Javascript object>"
      ]
     },
     "metadata": {},
     "output_type": "display_data"
    }
   ],
   "source": [
    "DS_DIR = \"data\"\n",
    "DS_NAMES = [\"News\", \"News-T\", \"Tweets\", \"Tweets-T\"]\n",
    "DS_PATHS = [os.path.join(DS_DIR, ds_name) for ds_name in DS_NAMES]"
   ]
  },
  {
   "cell_type": "code",
   "execution_count": 5,
   "metadata": {},
   "outputs": [
    {
     "data": {
      "application/javascript": [
       "\n",
       "            setTimeout(function() {\n",
       "                var nbb_cell_id = 5;\n",
       "                var nbb_unformatted_code = \"def load_batches(ds_path, batch_size=int(2 ** 8)):\\n    with open(ds_path) as f:\\n        docs = []\\n        for line in f:\\n            parsed_line = json.loads(line)\\n            docs.append(parsed_line)\\n            if len(docs) == batch_size:\\n                yield docs\\n                docs = []\\n        if len(docs) > 0:\\n            yield docs\";\n",
       "                var nbb_formatted_code = \"def load_batches(ds_path, batch_size=int(2 ** 8)):\\n    with open(ds_path) as f:\\n        docs = []\\n        for line in f:\\n            parsed_line = json.loads(line)\\n            docs.append(parsed_line)\\n            if len(docs) == batch_size:\\n                yield docs\\n                docs = []\\n        if len(docs) > 0:\\n            yield docs\";\n",
       "                var nbb_cells = Jupyter.notebook.get_cells();\n",
       "                for (var i = 0; i < nbb_cells.length; ++i) {\n",
       "                    if (nbb_cells[i].input_prompt_number == nbb_cell_id) {\n",
       "                        if (nbb_cells[i].get_text() == nbb_unformatted_code) {\n",
       "                             nbb_cells[i].set_text(nbb_formatted_code);\n",
       "                        }\n",
       "                        break;\n",
       "                    }\n",
       "                }\n",
       "            }, 500);\n",
       "            "
      ],
      "text/plain": [
       "<IPython.core.display.Javascript object>"
      ]
     },
     "metadata": {},
     "output_type": "display_data"
    }
   ],
   "source": [
    "def load_batches(ds_path, batch_size=int(2 ** 8)):\n",
    "    with open(ds_path) as f:\n",
    "        docs = []\n",
    "        for line in f:\n",
    "            parsed_line = json.loads(line)\n",
    "            docs.append(parsed_line)\n",
    "            if len(docs) == batch_size:\n",
    "                yield docs\n",
    "                docs = []\n",
    "        if len(docs) > 0:\n",
    "            yield docs"
   ]
  },
  {
   "cell_type": "code",
   "execution_count": 6,
   "metadata": {},
   "outputs": [
    {
     "data": {
      "application/javascript": [
       "\n",
       "            setTimeout(function() {\n",
       "                var nbb_cell_id = 6;\n",
       "                var nbb_unformatted_code = \"def transform(docs):\\n    return [{\\\"id\\\": doc[\\\"Id\\\"], \\\"words\\\": doc[\\\"textCleaned\\\"].split()} for doc in docs]\";\n",
       "                var nbb_formatted_code = \"def transform(docs):\\n    return [{\\\"id\\\": doc[\\\"Id\\\"], \\\"words\\\": doc[\\\"textCleaned\\\"].split()} for doc in docs]\";\n",
       "                var nbb_cells = Jupyter.notebook.get_cells();\n",
       "                for (var i = 0; i < nbb_cells.length; ++i) {\n",
       "                    if (nbb_cells[i].input_prompt_number == nbb_cell_id) {\n",
       "                        if (nbb_cells[i].get_text() == nbb_unformatted_code) {\n",
       "                             nbb_cells[i].set_text(nbb_formatted_code);\n",
       "                        }\n",
       "                        break;\n",
       "                    }\n",
       "                }\n",
       "            }, 500);\n",
       "            "
      ],
      "text/plain": [
       "<IPython.core.display.Javascript object>"
      ]
     },
     "metadata": {},
     "output_type": "display_data"
    }
   ],
   "source": [
    "def transform(docs):\n",
    "    return [{\"id\": doc[\"Id\"], \"words\": doc[\"textCleaned\"].split()} for doc in docs]"
   ]
  },
  {
   "cell_type": "code",
   "execution_count": 7,
   "metadata": {
    "scrolled": false
   },
   "outputs": [
    {
     "name": "stdout",
     "output_type": "stream",
     "text": [
      "15.929090561999999\n",
      "22.086805683999998\n",
      "27.615999468\n",
      "31.161218002\n",
      "37.969757859\n",
      "38.389845640000004\n",
      "42.51797628099999\n",
      "45.02415402699998\n",
      "45.449918378999996\n",
      "44.85175791700004\n",
      "51.721185529000024\n",
      "48.56279583999998\n",
      "55.760643173999995\n",
      "56.83743960600003\n",
      "55.15935849300001\n",
      "54.90244143799998\n"
     ]
    },
    {
     "data": {
      "application/javascript": [
       "\n",
       "            setTimeout(function() {\n",
       "                var nbb_cell_id = 7;\n",
       "                var nbb_unformatted_code = \"num_docs = sum([len(doc_batch) for doc_batch in load_batches(DS_PATHS[2])])\\nbatch_size = math.ceil(num_docs / 16)\\nmstream = Mstream()\\ny = []\\ntimes = []\\nfor parsed_docs in load_batches(DS_PATHS[2], batch_size):\\n    t0 = time.process_time()\\n    y += mstream.process(transform(parsed_docs))\\n    t1 = time.process_time()\\n    print(t1 - t0)\\n    times.append(t1 - t0)\";\n",
       "                var nbb_formatted_code = \"num_docs = sum([len(doc_batch) for doc_batch in load_batches(DS_PATHS[2])])\\nbatch_size = math.ceil(num_docs / 16)\\nmstream = Mstream()\\ny = []\\ntimes = []\\nfor parsed_docs in load_batches(DS_PATHS[2], batch_size):\\n    t0 = time.process_time()\\n    y += mstream.process(transform(parsed_docs))\\n    t1 = time.process_time()\\n    print(t1 - t0)\\n    times.append(t1 - t0)\";\n",
       "                var nbb_cells = Jupyter.notebook.get_cells();\n",
       "                for (var i = 0; i < nbb_cells.length; ++i) {\n",
       "                    if (nbb_cells[i].input_prompt_number == nbb_cell_id) {\n",
       "                        if (nbb_cells[i].get_text() == nbb_unformatted_code) {\n",
       "                             nbb_cells[i].set_text(nbb_formatted_code);\n",
       "                        }\n",
       "                        break;\n",
       "                    }\n",
       "                }\n",
       "            }, 500);\n",
       "            "
      ],
      "text/plain": [
       "<IPython.core.display.Javascript object>"
      ]
     },
     "metadata": {},
     "output_type": "display_data"
    }
   ],
   "source": [
    "num_docs = sum([len(doc_batch) for doc_batch in load_batches(DS_PATHS[2])])\n",
    "batch_size = math.ceil(num_docs / 16)\n",
    "mstream = Mstream()\n",
    "y = []\n",
    "times = []\n",
    "for parsed_docs in load_batches(DS_PATHS[2], batch_size):\n",
    "    t0 = time.process_time()\n",
    "    y += mstream.process(transform(parsed_docs))\n",
    "    t1 = time.process_time()\n",
    "    print(t1 - t0)\n",
    "    times.append(t1 - t0)"
   ]
  },
  {
   "cell_type": "code",
   "execution_count": 57,
   "metadata": {},
   "outputs": [
    {
     "data": {
      "text/plain": [
       "array([ 14.03008528,  31.03972707,  51.04131376,  72.46202304,\n",
       "        97.05719657, 125.49506644, 154.86320704, 186.93606598,\n",
       "       219.83331087, 254.03131453, 291.02586813, 329.40445724,\n",
       "       365.373442  , 404.90888313, 449.51232855, 490.9583228 ,\n",
       "       532.6385391 ])"
      ]
     },
     "execution_count": 57,
     "metadata": {},
     "output_type": "execute_result"
    },
    {
     "data": {
      "application/javascript": [
       "\n",
       "            setTimeout(function() {\n",
       "                var nbb_cell_id = 57;\n",
       "                var nbb_unformatted_code = \"np.cumsum(np.array(times))\";\n",
       "                var nbb_formatted_code = \"np.cumsum(np.array(times))\";\n",
       "                var nbb_cells = Jupyter.notebook.get_cells();\n",
       "                for (var i = 0; i < nbb_cells.length; ++i) {\n",
       "                    if (nbb_cells[i].input_prompt_number == nbb_cell_id) {\n",
       "                        if (nbb_cells[i].get_text() == nbb_unformatted_code) {\n",
       "                             nbb_cells[i].set_text(nbb_formatted_code);\n",
       "                        }\n",
       "                        break;\n",
       "                    }\n",
       "                }\n",
       "            }, 500);\n",
       "            "
      ],
      "text/plain": [
       "<IPython.core.display.Javascript object>"
      ]
     },
     "metadata": {},
     "output_type": "display_data"
    }
   ],
   "source": [
    "np.cumsum(np.array(times))"
   ]
  },
  {
   "cell_type": "code",
   "execution_count": 24,
   "metadata": {},
   "outputs": [
    {
     "data": {
      "text/plain": [
       "array([ 86.04950894, 122.47312375, 151.58861346,  82.97390427,\n",
       "        54.00655597,  88.64908107, 104.47145259, 157.22200212,\n",
       "        60.59958485,  73.07717064, 106.63670419, 111.39617205,\n",
       "        69.28448717,  92.81293938, 135.42683546,  87.13489973,\n",
       "        80.18629882,  83.56045601,  97.60789163,  79.31832097,\n",
       "        63.49706788,  69.85645844,  88.72059895,  76.1727235 ,\n",
       "       145.01856781,  90.27081206, 126.10633156,  77.43335623,\n",
       "        78.43306705, 155.02202458, 167.63783152, 134.58608627,\n",
       "        86.08858616,  97.50883287,  95.841065  , 122.31085835,\n",
       "       137.60857858,  83.8564083 ,  73.2034007 ,  98.72056008,\n",
       "        86.38420785,  67.89235065,  75.51518086, 101.48272312,\n",
       "        64.45342823,  99.08437136, 143.9118371 ,  47.53140598,\n",
       "        61.16574253,  92.5500249 ,  47.07259653, 121.05689779,\n",
       "        70.90251689, 210.73134732,  67.23999253, 107.91739689,\n",
       "        41.17069   , 148.30172888,  97.85640075,  63.23681966,\n",
       "        91.32493575,  70.02746609,  44.41616715,  63.28392785,\n",
       "        73.40612335, 108.44510999, 176.95934062,  63.41743399,\n",
       "         1.35314434,   2.24515208,  30.82787607,   0.79348408,\n",
       "       110.99552006,   1.90039243,   0.90485115,   1.82290011,\n",
       "         3.08805752,   1.98932529,  28.78327385,   1.64751293,\n",
       "         1.6490117 ,   1.47973747,   5.23109756,   2.22906158,\n",
       "        30.74846034,   3.09191793,   1.47807835,   1.02078704,\n",
       "         1.18182169,   1.97294275,   1.64592249,   0.67404369,\n",
       "        84.09017906,   2.69411755,   1.45136978,   2.09282744,\n",
       "        10.36219567, 139.90531901,   3.87546118,  12.4179967 ,\n",
       "         2.06998634,   0.97789482,   2.88238281,   4.38082117,\n",
       "         3.33437546,   1.57098597,   1.08194725,   1.94706786,\n",
       "         1.13742228,  18.90534573,  36.38320243,   0.37361868,\n",
       "        56.35259774,   2.25120826,  54.00544576, 127.4995137 ,\n",
       "         2.04340093,   1.41328689,   2.98086298,   2.70001874,\n",
       "        58.01951199,   1.83035122,  71.2171854 ,   3.62062506,\n",
       "        64.45667785,   4.76002324, 110.63966131,   5.13114081,\n",
       "         2.74962272,   2.47614263,   7.35086293,   1.96035408,\n",
       "         1.35126439,  21.99574716,   3.48166814,   1.98444177,\n",
       "         2.88450255,   2.18606928,   1.68978203,   3.87621653,\n",
       "         2.30002795,   1.07972073,   1.76232007,  57.80036254,\n",
       "         2.34046157,   0.84891435,   2.5011985 ,   2.51860817,\n",
       "       123.46482548,  75.8163466 ,   1.13236851,   1.55063179,\n",
       "         1.05871544, 113.60164126,  38.05705452,  12.57954279,\n",
       "        26.56034265, 163.72075951,   5.53363228,  72.0802213 ,\n",
       "         6.53941653, 131.51689643,   4.45546994,  96.80020398,\n",
       "         1.40123061,   2.97091427,   1.67663279,   1.99689626,\n",
       "         1.54122663,   1.6861145 ,   2.44176741,   2.55034282,\n",
       "         0.37984818,   1.48391076,   1.5835774 ,   1.79934714,\n",
       "         1.51659591,  96.58136214,   2.34743106,  89.83427027,\n",
       "         1.66532131,   1.40717377,   1.91811889,   0.26014919,\n",
       "         2.91937403,   2.86791599,   2.71524252,  82.18913169,\n",
       "        64.9570187 , 101.67874126,   1.55075846,   2.02027845,\n",
       "         2.02479948,   3.49767177,   3.0706827 ,   1.90036251,\n",
       "         1.39977523,   1.18558137,   2.56830519,   3.69118856,\n",
       "         1.38132151,   5.33184866,   4.21648915,   2.91396244,\n",
       "         2.83390362,   3.55725111,   1.52911373,   5.14124998,\n",
       "        97.5172297 ,  48.04536146, 197.12771372, 104.07514314,\n",
       "        62.88598647, 143.03640784,  71.39804277,  83.0713068 ,\n",
       "       100.9143056 ,   7.66424874,   7.61316945,   1.62658122,\n",
       "         1.53951161,   3.7086042 ,   3.18225334,   3.27457822,\n",
       "         2.36719108,   0.70228354,   2.28770688,  94.34128756,\n",
       "         0.32312683,   1.30296277,  62.95113763,   0.80163907,\n",
       "         7.46343331,   2.89196238,   1.51105164,   0.78053822,\n",
       "         1.54309995,  90.66040017,  68.33698723,  39.96188111,\n",
       "        72.50269698,  51.88911914,   1.67181512,   1.12058916,\n",
       "         0.97995477,   0.78306651,   7.85683351,   2.63666995,\n",
       "         6.48377367,   0.93155423,   2.94650191,   6.7806053 ,\n",
       "         3.03705488, 136.10846243,   4.46364656,  69.52356258,\n",
       "         3.47584476, 124.35797976,  11.93845241,   2.55346906,\n",
       "         1.62430793,   7.63475599,   2.91663094,   1.33995021,\n",
       "         5.23073684,   4.23340939,  38.96266733,  71.68251274,\n",
       "         3.58297567,   3.70126422,   2.5578586 ,  39.81250912,\n",
       "       111.63562859,  75.6282478 ,   9.93465599,  28.93511614,\n",
       "         5.80794684,   3.32304479,   2.49481175,   3.40862565,\n",
       "         5.89761267,   1.40353839,   2.55872342,  67.97980528,\n",
       "        84.60626733,   1.8020095 ,   4.4267331 ,   2.95462067,\n",
       "         2.90270287,  61.19771016,  34.38757387,   2.66782207,\n",
       "         1.21473178,   1.64578685,   4.88569234,   0.45591484,\n",
       "         2.00242702,  28.51803285,  85.48430948,   1.99529773,\n",
       "         9.55988651,   2.84045333,   7.18015573,   5.40220856,\n",
       "        13.78627985,  25.9407232 ,  35.79745137,  40.14892223,\n",
       "         1.27906195,   1.5974381 ,   3.76570815,   2.27381414,\n",
       "         3.2335881 ,   2.52559895,   2.65805036,   3.96610905,\n",
       "         0.91793501,   1.46914269,   0.32032029,   1.61024026,\n",
       "         1.7702737 ,   2.06650529,   2.70163068,   2.54877351,\n",
       "         1.42255245,   2.17568411,  19.88162679,   7.47482262,\n",
       "         4.10364518,  50.32704436,  16.86997219,   5.71826712,\n",
       "         5.85714611,   4.46038872,   3.57869111,   3.55975761,\n",
       "         3.01285838,   1.90788005,   2.73235774,   3.21732487,\n",
       "         1.72982737,   2.07394498,   1.46133322,   1.73467076,\n",
       "         1.62460469,   3.73021983,   3.92190345,   2.48490441,\n",
       "         4.25374136,   1.64702942,   0.79669784,   2.87855656,\n",
       "         1.09031016,  14.82288539,   4.45498835,  64.10635885,\n",
       "         3.21906322,   2.39560645,   2.68573939,   2.42069512,\n",
       "         3.23996274,   1.80028737,   2.24544971,   1.53755986,\n",
       "         3.36719114,  10.353559  ,   3.49798437,   1.17876117,\n",
       "         1.26357536,   2.55529238,   1.25767968,   2.68961675,\n",
       "         4.26988219,   2.12067462,   2.68667669,   3.98242989,\n",
       "         2.47261083,   2.39533829])"
      ]
     },
     "execution_count": 24,
     "metadata": {},
     "output_type": "execute_result"
    },
    {
     "data": {
      "application/javascript": [
       "\n",
       "            setTimeout(function() {\n",
       "                var nbb_cell_id = 24;\n",
       "                var nbb_unformatted_code = \"m.sum(axis=1)\";\n",
       "                var nbb_formatted_code = \"m.sum(axis=1)\";\n",
       "                var nbb_cells = Jupyter.notebook.get_cells();\n",
       "                for (var i = 0; i < nbb_cells.length; ++i) {\n",
       "                    if (nbb_cells[i].input_prompt_number == nbb_cell_id) {\n",
       "                        if (nbb_cells[i].get_text() == nbb_unformatted_code) {\n",
       "                             nbb_cells[i].set_text(nbb_formatted_code);\n",
       "                        }\n",
       "                        break;\n",
       "                    }\n",
       "                }\n",
       "            }, 500);\n",
       "            "
      ],
      "text/plain": [
       "<IPython.core.display.Javascript object>"
      ]
     },
     "metadata": {},
     "output_type": "display_data"
    }
   ],
   "source": [
    "m.sum(axis=1)"
   ]
  },
  {
   "cell_type": "code",
   "execution_count": 8,
   "metadata": {},
   "outputs": [
    {
     "data": {
      "text/plain": [
       "array([[0.00360298, 0.00672861, 0.        , ..., 0.        , 0.        ,\n",
       "        0.        ],\n",
       "       [0.04676268, 0.        , 0.01674513, ..., 0.        , 0.        ,\n",
       "        0.        ],\n",
       "       [0.        , 0.        , 0.        , ..., 0.        , 0.        ,\n",
       "        0.        ],\n",
       "       ...,\n",
       "       [0.        , 0.        , 0.        , ..., 0.        , 0.        ,\n",
       "        0.        ],\n",
       "       [0.        , 0.        , 0.        , ..., 0.        , 0.        ,\n",
       "        0.        ],\n",
       "       [0.        , 0.        , 0.        , ..., 0.        , 0.        ,\n",
       "        0.        ]])"
      ]
     },
     "execution_count": 8,
     "metadata": {},
     "output_type": "execute_result"
    },
    {
     "data": {
      "application/javascript": [
       "\n",
       "            setTimeout(function() {\n",
       "                var nbb_cell_id = 8;\n",
       "                var nbb_unformatted_code = \"m = mstream.topic_term_pmf()\\nm\";\n",
       "                var nbb_formatted_code = \"m = mstream.topic_term_pmf()\\nm\";\n",
       "                var nbb_cells = Jupyter.notebook.get_cells();\n",
       "                for (var i = 0; i < nbb_cells.length; ++i) {\n",
       "                    if (nbb_cells[i].input_prompt_number == nbb_cell_id) {\n",
       "                        if (nbb_cells[i].get_text() == nbb_unformatted_code) {\n",
       "                             nbb_cells[i].set_text(nbb_formatted_code);\n",
       "                        }\n",
       "                        break;\n",
       "                    }\n",
       "                }\n",
       "            }, 500);\n",
       "            "
      ],
      "text/plain": [
       "<IPython.core.display.Javascript object>"
      ]
     },
     "metadata": {},
     "output_type": "display_data"
    }
   ],
   "source": [
    "m = mstream.topic_term_pmf()\n",
    "m"
   ]
  },
  {
   "cell_type": "markdown",
   "metadata": {},
   "source": [
    "Caculate the NMI for each batch"
   ]
  },
  {
   "cell_type": "markdown",
   "metadata": {},
   "source": [
    "Calculate the NMI as a function of the number of iterations"
   ]
  },
  {
   "cell_type": "code",
   "execution_count": 92,
   "metadata": {},
   "outputs": [
    {
     "data": {
      "application/javascript": [
       "\n",
       "            setTimeout(function() {\n",
       "                var nbb_cell_id = 92;\n",
       "                var nbb_unformatted_code = \"num_batches = 16\\nmax_num_iter = 11\\nnum_iters = list(range(1, max_num_iter))\\nds_nmis = []\\nfor ds_path in [DS_PATHS[2]]:\\n    num_total_docs = sum([len(batch) for batch in load_batches(ds_path)])\\n    batch_size = math.ceil(num_total_docs / num_batches)\\n    batch_size = 1\\n    nmis = []\\n    for num_iter in num_iters:\\n        mstream = Mstream(num_iter)\\n        y_hat = []\\n        y = []\\n        for parsed_docs in load_batches(ds_path, batch_size):\\n            y += [doc[\\\"clusterNo\\\"] for doc in parsed_docs]\\n            y_hat += mstream.process(transform(parsed_docs))\\n        nmi = normalized_mutual_info_score(y, y_hat)\\n        nmis.append(nmi)\\n    ds_nmis.append(nmis)\";\n",
       "                var nbb_formatted_code = \"num_batches = 16\\nmax_num_iter = 11\\nnum_iters = list(range(1, max_num_iter))\\nds_nmis = []\\nfor ds_path in [DS_PATHS[2]]:\\n    num_total_docs = sum([len(batch) for batch in load_batches(ds_path)])\\n    batch_size = math.ceil(num_total_docs / num_batches)\\n    batch_size = 1\\n    nmis = []\\n    for num_iter in num_iters:\\n        mstream = Mstream(num_iter)\\n        y_hat = []\\n        y = []\\n        for parsed_docs in load_batches(ds_path, batch_size):\\n            y += [doc[\\\"clusterNo\\\"] for doc in parsed_docs]\\n            y_hat += mstream.process(transform(parsed_docs))\\n        nmi = normalized_mutual_info_score(y, y_hat)\\n        nmis.append(nmi)\\n    ds_nmis.append(nmis)\";\n",
       "                var nbb_cells = Jupyter.notebook.get_cells();\n",
       "                for (var i = 0; i < nbb_cells.length; ++i) {\n",
       "                    if (nbb_cells[i].input_prompt_number == nbb_cell_id) {\n",
       "                        if (nbb_cells[i].get_text() == nbb_unformatted_code) {\n",
       "                             nbb_cells[i].set_text(nbb_formatted_code);\n",
       "                        }\n",
       "                        break;\n",
       "                    }\n",
       "                }\n",
       "            }, 500);\n",
       "            "
      ],
      "text/plain": [
       "<IPython.core.display.Javascript object>"
      ]
     },
     "metadata": {},
     "output_type": "display_data"
    }
   ],
   "source": [
    "num_batches = 16\n",
    "max_num_iter = 11\n",
    "num_iters = list(range(1, max_num_iter))\n",
    "ds_nmis = []\n",
    "for ds_path in [DS_PATHS[2]]:\n",
    "    num_total_docs = sum([len(batch) for batch in load_batches(ds_path)])\n",
    "    batch_size = math.ceil(num_total_docs / num_batches)\n",
    "    nmis = []\n",
    "    for num_iter in num_iters:\n",
    "        mstream = Mstream(num_iter)\n",
    "        y_hat = []\n",
    "        y = []\n",
    "        for parsed_docs in load_batches(ds_path, batch_size):\n",
    "            y += [doc[\"clusterNo\"] for doc in parsed_docs]\n",
    "            y_hat += mstream.process(transform(parsed_docs))\n",
    "        nmi = normalized_mutual_info_score(y, y_hat)\n",
    "        nmis.append(nmi)\n",
    "    ds_nmis.append(nmis)"
   ]
  },
  {
   "cell_type": "code",
   "execution_count": 93,
   "metadata": {},
   "outputs": [
    {
     "data": {
      "text/plain": [
       "<matplotlib.legend.Legend at 0x7faeb8cdb610>"
      ]
     },
     "execution_count": 93,
     "metadata": {},
     "output_type": "execute_result"
    },
    {
     "data": {
      "image/png": "[encoded data removed]",
      "text/plain": [
       "<Figure size 432x288 with 1 Axes>"
      ]
     },
     "metadata": {},
     "output_type": "display_data"
    },
    {
     "data": {
      "application/javascript": [
       "\n",
       "            setTimeout(function() {\n",
       "                var nbb_cell_id = 93;\n",
       "                var nbb_unformatted_code = \"fig, ax = plt.subplots()\\nax.set_title(\\\"NMI wrt num. iterations\\\")\\nax.set_xlabel(\\\"num. iterations\\\")\\nax.set_ylabel(\\\"NMI\\\")\\n# ax.set_yticks(np.arange(0.5, 1.1, step=0.1))\\nax.set_ylim(0.5, 1)\\nfor i, ds_nmi in enumerate(ds_nmis):\\n    ax.plot(num_iters, ds_nmi, label=DS_NAMES[i])\\nax.legend()\";\n",
       "                var nbb_formatted_code = \"fig, ax = plt.subplots()\\nax.set_title(\\\"NMI wrt num. iterations\\\")\\nax.set_xlabel(\\\"num. iterations\\\")\\nax.set_ylabel(\\\"NMI\\\")\\n# ax.set_yticks(np.arange(0.5, 1.1, step=0.1))\\nax.set_ylim(0.5, 1)\\nfor i, ds_nmi in enumerate(ds_nmis):\\n    ax.plot(num_iters, ds_nmi, label=DS_NAMES[i])\\nax.legend()\";\n",
       "                var nbb_cells = Jupyter.notebook.get_cells();\n",
       "                for (var i = 0; i < nbb_cells.length; ++i) {\n",
       "                    if (nbb_cells[i].input_prompt_number == nbb_cell_id) {\n",
       "                        if (nbb_cells[i].get_text() == nbb_unformatted_code) {\n",
       "                             nbb_cells[i].set_text(nbb_formatted_code);\n",
       "                        }\n",
       "                        break;\n",
       "                    }\n",
       "                }\n",
       "            }, 500);\n",
       "            "
      ],
      "text/plain": [
       "<IPython.core.display.Javascript object>"
      ]
     },
     "metadata": {},
     "output_type": "display_data"
    }
   ],
   "source": [
    "fig, ax = plt.subplots()\n",
    "ax.set_title(\"NMI wrt num. iterations\")\n",
    "ax.set_xlabel(\"num. iterations\")\n",
    "ax.set_ylabel(\"NMI\")\n",
    "# ax.set_yticks(np.arange(0.5, 1.1, step=0.1))\n",
    "ax.set_ylim(0.5, 1)\n",
    "for i, ds_nmi in enumerate(ds_nmis):\n",
    "    ax.plot(num_iters, ds_nmi, label=DS_NAMES[i])\n",
    "ax.legend()"
   ]
  }
 ],
 "metadata": {
  "kernelspec": {
   "display_name": "Python 3",
   "language": "python",
   "name": "python3"
  },
  "language_info": {
   "codemirror_mode": {
    "name": "ipython",
    "version": 3
   },
   "file_extension": ".py",
   "mimetype": "text/x-python",
   "name": "python",
   "nbconvert_exporter": "python",
   "pygments_lexer": "ipython3",
   "version": "3.8.0"
  }
 },
 "nbformat": 4,
 "nbformat_minor": 4
}
