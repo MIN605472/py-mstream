{
 "cells": [
  {
   "cell_type": "code",
   "execution_count": 1,
   "metadata": {},
   "outputs": [
    {
     "data": {
      "application/javascript": [
       "\n",
       "            setTimeout(function() {\n",
       "                var nbb_cell_id = 1;\n",
       "                var nbb_unformatted_code = \"%load_ext nb_black\\n%load_ext autoreload\\n%autoreload 2\";\n",
       "                var nbb_formatted_code = \"%load_ext nb_black\\n%load_ext autoreload\\n%autoreload 2\";\n",
       "                var nbb_cells = Jupyter.notebook.get_cells();\n",
       "                for (var i = 0; i < nbb_cells.length; ++i) {\n",
       "                    if (nbb_cells[i].input_prompt_number == nbb_cell_id) {\n",
       "                        if (nbb_cells[i].get_text() == nbb_unformatted_code) {\n",
       "                             nbb_cells[i].set_text(nbb_formatted_code);\n",
       "                        }\n",
       "                        break;\n",
       "                    }\n",
       "                }\n",
       "            }, 500);\n",
       "            "
      ],
      "text/plain": [
       "<IPython.core.display.Javascript object>"
      ]
     },
     "metadata": {},
     "output_type": "display_data"
    }
   ],
   "source": [
    "%load_ext nb_black\n",
    "%load_ext autoreload\n",
    "%autoreload 2"
   ]
  },
  {
   "cell_type": "code",
   "execution_count": 2,
   "metadata": {},
   "outputs": [
    {
     "data": {
      "application/javascript": [
       "\n",
       "            setTimeout(function() {\n",
       "                var nbb_cell_id = 2;\n",
       "                var nbb_unformatted_code = \"import json\\nimport os\\nimport math\\nimport matplotlib.pyplot as plt\\nimport numpy as np\\nfrom sklearn.metrics.cluster import normalized_mutual_info_score\\nfrom mstream.mstream import Mstream\\n\\nplt.style.use(\\\"ggplot\\\")\";\n",
       "                var nbb_formatted_code = \"import json\\nimport os\\nimport math\\nimport matplotlib.pyplot as plt\\nimport numpy as np\\nfrom sklearn.metrics.cluster import normalized_mutual_info_score\\nfrom mstream.mstream import Mstream\\n\\nplt.style.use(\\\"ggplot\\\")\";\n",
       "                var nbb_cells = Jupyter.notebook.get_cells();\n",
       "                for (var i = 0; i < nbb_cells.length; ++i) {\n",
       "                    if (nbb_cells[i].input_prompt_number == nbb_cell_id) {\n",
       "                        if (nbb_cells[i].get_text() == nbb_unformatted_code) {\n",
       "                             nbb_cells[i].set_text(nbb_formatted_code);\n",
       "                        }\n",
       "                        break;\n",
       "                    }\n",
       "                }\n",
       "            }, 500);\n",
       "            "
      ],
      "text/plain": [
       "<IPython.core.display.Javascript object>"
      ]
     },
     "metadata": {},
     "output_type": "display_data"
    }
   ],
   "source": [
    "import json\n",
    "import os\n",
    "import math\n",
    "import matplotlib.pyplot as plt\n",
    "import numpy as np\n",
    "from sklearn.metrics.cluster import normalized_mutual_info_score\n",
    "from mstream.mstream import Mstream\n",
    "\n",
    "plt.style.use(\"ggplot\")"
   ]
  },
  {
   "cell_type": "code",
   "execution_count": 3,
   "metadata": {},
   "outputs": [
    {
     "data": {
      "application/javascript": [
       "\n",
       "            setTimeout(function() {\n",
       "                var nbb_cell_id = 3;\n",
       "                var nbb_unformatted_code = \"DS_DIR = \\\"data\\\"\\nDS_NAMES = [\\\"News\\\", \\\"News-T\\\", \\\"Tweets\\\", \\\"Tweets-T\\\"]\\nDS_PATHS = [os.path.join(DS_DIR, ds_name) for ds_name in DS_NAMES]\";\n",
       "                var nbb_formatted_code = \"DS_DIR = \\\"data\\\"\\nDS_NAMES = [\\\"News\\\", \\\"News-T\\\", \\\"Tweets\\\", \\\"Tweets-T\\\"]\\nDS_PATHS = [os.path.join(DS_DIR, ds_name) for ds_name in DS_NAMES]\";\n",
       "                var nbb_cells = Jupyter.notebook.get_cells();\n",
       "                for (var i = 0; i < nbb_cells.length; ++i) {\n",
       "                    if (nbb_cells[i].input_prompt_number == nbb_cell_id) {\n",
       "                        if (nbb_cells[i].get_text() == nbb_unformatted_code) {\n",
       "                             nbb_cells[i].set_text(nbb_formatted_code);\n",
       "                        }\n",
       "                        break;\n",
       "                    }\n",
       "                }\n",
       "            }, 500);\n",
       "            "
      ],
      "text/plain": [
       "<IPython.core.display.Javascript object>"
      ]
     },
     "metadata": {},
     "output_type": "display_data"
    }
   ],
   "source": [
    "DS_DIR = \"data\"\n",
    "DS_NAMES = [\"News\", \"News-T\", \"Tweets\", \"Tweets-T\"]\n",
    "DS_PATHS = [os.path.join(DS_DIR, ds_name) for ds_name in DS_NAMES]"
   ]
  },
  {
   "cell_type": "code",
   "execution_count": 4,
   "metadata": {},
   "outputs": [
    {
     "data": {
      "application/javascript": [
       "\n",
       "            setTimeout(function() {\n",
       "                var nbb_cell_id = 4;\n",
       "                var nbb_unformatted_code = \"def load_batches(ds_path, batch_size=int(2 ** 8)):\\n    with open(ds_path) as f:\\n        docs = []\\n        for line in f:\\n            parsed_line = json.loads(line)\\n            docs.append(parsed_line)\\n            if len(docs) == batch_size:\\n                yield docs\\n                docs = []\\n        if len(docs) > 0:\\n            yield docs\";\n",
       "                var nbb_formatted_code = \"def load_batches(ds_path, batch_size=int(2 ** 8)):\\n    with open(ds_path) as f:\\n        docs = []\\n        for line in f:\\n            parsed_line = json.loads(line)\\n            docs.append(parsed_line)\\n            if len(docs) == batch_size:\\n                yield docs\\n                docs = []\\n        if len(docs) > 0:\\n            yield docs\";\n",
       "                var nbb_cells = Jupyter.notebook.get_cells();\n",
       "                for (var i = 0; i < nbb_cells.length; ++i) {\n",
       "                    if (nbb_cells[i].input_prompt_number == nbb_cell_id) {\n",
       "                        if (nbb_cells[i].get_text() == nbb_unformatted_code) {\n",
       "                             nbb_cells[i].set_text(nbb_formatted_code);\n",
       "                        }\n",
       "                        break;\n",
       "                    }\n",
       "                }\n",
       "            }, 500);\n",
       "            "
      ],
      "text/plain": [
       "<IPython.core.display.Javascript object>"
      ]
     },
     "metadata": {},
     "output_type": "display_data"
    }
   ],
   "source": [
    "def load_batches(ds_path, batch_size=int(2 ** 8)):\n",
    "    with open(ds_path) as f:\n",
    "        docs = []\n",
    "        for line in f:\n",
    "            parsed_line = json.loads(line)\n",
    "            docs.append(parsed_line)\n",
    "            if len(docs) == batch_size:\n",
    "                yield docs\n",
    "                docs = []\n",
    "        if len(docs) > 0:\n",
    "            yield docs"
   ]
  },
  {
   "cell_type": "code",
   "execution_count": 5,
   "metadata": {},
   "outputs": [
    {
     "data": {
      "application/javascript": [
       "\n",
       "            setTimeout(function() {\n",
       "                var nbb_cell_id = 5;\n",
       "                var nbb_unformatted_code = \"def transform(docs):\\n    return [{\\\"id\\\": doc[\\\"Id\\\"], \\\"word_list\\\": doc[\\\"textCleaned\\\"].split()} for doc in docs]\";\n",
       "                var nbb_formatted_code = \"def transform(docs):\\n    return [{\\\"id\\\": doc[\\\"Id\\\"], \\\"word_list\\\": doc[\\\"textCleaned\\\"].split()} for doc in docs]\";\n",
       "                var nbb_cells = Jupyter.notebook.get_cells();\n",
       "                for (var i = 0; i < nbb_cells.length; ++i) {\n",
       "                    if (nbb_cells[i].input_prompt_number == nbb_cell_id) {\n",
       "                        if (nbb_cells[i].get_text() == nbb_unformatted_code) {\n",
       "                             nbb_cells[i].set_text(nbb_formatted_code);\n",
       "                        }\n",
       "                        break;\n",
       "                    }\n",
       "                }\n",
       "            }, 500);\n",
       "            "
      ],
      "text/plain": [
       "<IPython.core.display.Javascript object>"
      ]
     },
     "metadata": {},
     "output_type": "display_data"
    }
   ],
   "source": [
    "def transform(docs):\n",
    "    return [{\"id\": doc[\"Id\"], \"word_list\": doc[\"textCleaned\"].split()} for doc in docs]"
   ]
  },
  {
   "cell_type": "code",
   "execution_count": 6,
   "metadata": {},
   "outputs": [
    {
     "data": {
      "application/javascript": [
       "\n",
       "            setTimeout(function() {\n",
       "                var nbb_cell_id = 6;\n",
       "                var nbb_unformatted_code = \"def calc_nmi(y, y_hat):\\n    return normalized_mutual_info_score(y, y_hat)\";\n",
       "                var nbb_formatted_code = \"def calc_nmi(y, y_hat):\\n    return normalized_mutual_info_score(y, y_hat)\";\n",
       "                var nbb_cells = Jupyter.notebook.get_cells();\n",
       "                for (var i = 0; i < nbb_cells.length; ++i) {\n",
       "                    if (nbb_cells[i].input_prompt_number == nbb_cell_id) {\n",
       "                        if (nbb_cells[i].get_text() == nbb_unformatted_code) {\n",
       "                             nbb_cells[i].set_text(nbb_formatted_code);\n",
       "                        }\n",
       "                        break;\n",
       "                    }\n",
       "                }\n",
       "            }, 500);\n",
       "            "
      ],
      "text/plain": [
       "<IPython.core.display.Javascript object>"
      ]
     },
     "metadata": {},
     "output_type": "display_data"
    }
   ],
   "source": [
    "def calc_nmi(y, y_hat):\n",
    "    return normalized_mutual_info_score(y, y_hat)"
   ]
  },
  {
   "cell_type": "code",
   "execution_count": 7,
   "metadata": {
    "scrolled": true
   },
   "outputs": [
    {
     "data": {
      "application/javascript": [
       "\n",
       "            setTimeout(function() {\n",
       "                var nbb_cell_id = 7;\n",
       "                var nbb_unformatted_code = \"num_docs = sum([len(doc_batch) for doc_batch in load_batches(DS_PATHS[2])])\\nbatch_size = math.ceil(num_docs / 16)\\nmstream = Mstream()\\nparsed_docs = next(load_batches(DS_PATHS[2], batch_size))\\ndocs = transform(parsed_docs)\\nres = mstream.process(docs)\";\n",
       "                var nbb_formatted_code = \"num_docs = sum([len(doc_batch) for doc_batch in load_batches(DS_PATHS[2])])\\nbatch_size = math.ceil(num_docs / 16)\\nmstream = Mstream()\\nparsed_docs = next(load_batches(DS_PATHS[2], batch_size))\\ndocs = transform(parsed_docs)\\nres = mstream.process(docs)\";\n",
       "                var nbb_cells = Jupyter.notebook.get_cells();\n",
       "                for (var i = 0; i < nbb_cells.length; ++i) {\n",
       "                    if (nbb_cells[i].input_prompt_number == nbb_cell_id) {\n",
       "                        if (nbb_cells[i].get_text() == nbb_unformatted_code) {\n",
       "                             nbb_cells[i].set_text(nbb_formatted_code);\n",
       "                        }\n",
       "                        break;\n",
       "                    }\n",
       "                }\n",
       "            }, 500);\n",
       "            "
      ],
      "text/plain": [
       "<IPython.core.display.Javascript object>"
      ]
     },
     "metadata": {},
     "output_type": "display_data"
    }
   ],
   "source": [
    "num_docs = sum([len(doc_batch) for doc_batch in load_batches(DS_PATHS[2])])\n",
    "batch_size = math.ceil(num_docs / 16)\n",
    "mstream = Mstream()\n",
    "parsed_docs = next(load_batches(DS_PATHS[2], batch_size))\n",
    "docs = transform(parsed_docs)\n",
    "res = mstream.process(docs)"
   ]
  },
  {
   "cell_type": "code",
   "execution_count": 17,
   "metadata": {},
   "outputs": [
    {
     "data": {
      "text/plain": [
       "{0: {'sargent': 0.002144984277056998, 'pio': 0.002144984277056998},\n",
       " 1: {'post': 0.003401472870777056, 'fox': 0.003401472870777056},\n",
       " 2: {'haha': 0.0007022998615855612, 'set': 0.0007022998615855612},\n",
       " 3: {'biting': 0.002174188373369362, 'read': 0.002174188373369362},\n",
       " 4: {'find': 0.003326873385012923, 'chat': 0.003326873385012923},\n",
       " 5: {'students': 0.0029619830908149724, 'rival': 0.0029619830908149724},\n",
       " 6: {'shredded': 0.0035334476843910815, 'creamy': 0.0035334476843910815},\n",
       " 7: {'area': 0.002707391441488803, 'lt': 0.002707391441488803},\n",
       " 9: {'eye': 0.004927522365210737, 'moore': 0.004927522365210737},\n",
       " 10: {'archive': 0.004087788228757388, 'working': 0.004087788228757388},\n",
       " 11: {'align': 0.006252655861106046, 'elite': 0.006252655861106046},\n",
       " 12: {'phd': 0.00520123213654497, 'american': 0.00520123213654497},\n",
       " 13: {'france': 0.004192786778474319, 'dtn': 0.004192786778474319},\n",
       " 14: {'attack': 0.008501155496863656, 'times': 0.008501155496863656},\n",
       " 15: {'preview': 0.017460586540091538, 'game': 0.017460586540091538},\n",
       " 16: {'andrew': 0.0036031623871825443, 'going': 0.0036031623871825443},\n",
       " 17: {'hu': 0.004740645280066276, 'scott': 0.004740645280066276},\n",
       " 18: {'agents': 0.007083906464924348, 'complain': 0.007083906464924348},\n",
       " 19: {'korea': 0.004780691575771639, 'nation': 0.004780691575771639},\n",
       " 20: {'hhrs': 0.00747622849676998, 'dig': 0.00747622849676998},\n",
       " 21: {'small': 0.007409538882094815, 'paid': 0.007409538882094815},\n",
       " 22: {'tonight': 0.0023256864161849663, 'takes': 0.0023256864161849663},\n",
       " 23: {'pm': 0.003906546309641207, 'surprise': 0.003906546309641207},\n",
       " 24: {'times': 0.00826977117623445, 'mi': 0.00826977117623445},\n",
       " 25: {'pharma': 0.0008406241838600153, 'sleep': 0.0008406241838600153},\n",
       " 26: {'xlv': 0.005250280354776228, 'advertisers': 0.005250280354776228},\n",
       " 27: {'long': 0.004265363591187678, 'wired': 0.004265363591187678},\n",
       " 28: {'socialnetwork': 0.0052316131653799315, 'tips': 0.0052316131653799315},\n",
       " 29: {'people': 0.010193982581155985, 'celebrity': 0.010193982581155985},\n",
       " 30: {'insight': 0.009339862169024304, 'controlling': 0.009339862169024304},\n",
       " 31: {'environment': 0.007445424316900395,\n",
       "  'independent': 0.007445424316900395},\n",
       " 34: {'meet': 0.016305208168434383, 'pew': 0.016305208168434383},\n",
       " 35: {'american': 0.0437553101104503, 'latin': 0.0437553101104503},\n",
       " 36: {'december': 0.010184910511223184, 'fall': 0.010184910511223184},\n",
       " 37: {'spending': 0.004592064199732498, 'ny': 0.004592064199732498},\n",
       " 39: {'live': 0.001786302700265345, 'share': 0.001786302700265345},\n",
       " 40: {'rock': 0.01741630030436253, 'federer': 0.01741630030436253},\n",
       " 41: {'bias': 0.009459087152171917, 'broad': 0.009459087152171917},\n",
       " 43: {'cutler': 0.0010760551608859175, 'company': 0.0010760551608859175},\n",
       " 44: {'music': 0.011454626334519581, 'press': 0.011454626334519581},\n",
       " 45: {'raid': 0.02142262895174708, 'work': 0.02142262895174708},\n",
       " 46: {'time': 0.017101112402457246, 'dynamic': 0.017101112402457246},\n",
       " 47: {'eye': 0.021409270421949695, 'rise': 0.021409270421949695},\n",
       " 49: {'read': 0.004259014224280518, 'blogging': 0.004259014224280518},\n",
       " 50: {'keith': 0.006825260088794647, 'cable': 0.006825260088794647},\n",
       " 51: {'january': 0.011924056494558926, 'sue': 0.011924056494558926},\n",
       " 52: {'yell': 0.0033143482318113105, 'hashbrowns': 0.0033143482318113105},\n",
       " 53: {'info': 0.005885714285714292, 'topic': 0.005885714285714292},\n",
       " 56: {'updated': 0.006086031670999757, 'bx': 0.006086031670999757},\n",
       " 57: {'gt': 0.008177199110828837, 'tech': 0.008177199110828837},\n",
       " 61: {'beverage': 0.02096052096052096, 'industry': 0.02096052096052096},\n",
       " 63: {'pink': 0.009243471237548229, 'flying': 0.009243471237548229},\n",
       " 64: {'green': 0.008342783087639725, 'energy': 0.008342783087639725},\n",
       " 70: {'international': 0.018761384335154837, 'herald': 0.018761384335154837},\n",
       " 72: {'piece': 0.10117878192534381, 'cnn': 0.10117878192534381},\n",
       " 75: {'billion': 0.0026136161790453957, 'well': 0.0026136161790453957},\n",
       " 78: {'gop': 0.004523098542069207, 'don': 0.004523098542069207},\n",
       " 81: {'constantly': 0.0037998967018372295, 'amazed': 0.0037998967018372295},\n",
       " 91: {'began': 0.05943450663589151, 'thinking': 0.05943450663589151},\n",
       " 92: {'rig': 0.01803537033794432, 'crankbait': 0.01803537033794432},\n",
       " 96: {'rich': 0.007719403432511429, 'closed': 0.007719403432511429},\n",
       " 97: {'hundreds': 0.018327402135231326, 'paid': 0.018327402135231326},\n",
       " 48: {'bullying': 0.006053482221569198, 'business': 0.006053482221569198},\n",
       " 69: {'mills': 0.015739608801955973, 'yea': 0.015739608801955973},\n",
       " 74: {'feel': 0.031450381679389315, 'helpless': 0.031450381679389315},\n",
       " 80: {'haha': 0.02458233890214797, 'baffled': 0.02458233890214797},\n",
       " 98: {'planned': 0.04192104192104191, 'dictator': 0.04192104192104191},\n",
       " 66: {'anti': 0.018700072621641254, 'real': 0.018700072621641254},\n",
       " 103: {'lmao': 0.05036674816625917, 'ppl': 0.05036674816625917},\n",
       " 104: {'northeast': 0.011190786614515431, 'regional': 0.011190786614515431},\n",
       " 93: {'el': 0.059025787965616035, 'talent': 0.059025787965616035},\n",
       " 106: {'sanction': 0.04192104192104191, 'reading': 0.04192104192104191},\n",
       " 59: {'will': 0.11111111111111112, 'cyber': 0.11111111111111112},\n",
       " 112: {'environmental': 0.09999999999999998, 'group': 0.09999999999999998},\n",
       " 119: {'realtime': 0.5, 'brilliant': 0.5},\n",
       " 118: {'pressure': 0.2, 'grows': 0.2},\n",
       " 87: {'nytimessports': 0.11111111111111112, 'oversight': 0.11111111111111112},\n",
       " 65: {'britain': 0.14285714285714285, 'migrant': 0.14285714285714285},\n",
       " 114: {'blaze': 0.14285714285714285, 'globalization': 0.14285714285714285},\n",
       " 110: {'fish': 0.09090909090909088, 'attack': 0.09090909090909088},\n",
       " 95: {'cut': 0.12545676004872108, 'ties': 0.12545676004872108},\n",
       " 100: {'japanese': 0.11111111111111112, 'kids': 0.11111111111111112},\n",
       " 8: {'fishing': 0.08333333333333333, 'float': 0.08333333333333333},\n",
       " 32: {'police': 0.07157748436414177, 'urging': 0.07157748436414177},\n",
       " 99: {'avani': 0.0911504424778761, 'utah': 0.0911504424778761},\n",
       " 62: {'kardashians': 0.11111111111111112, 'suicide': 0.11111111111111112},\n",
       " 71: {'fresh': 0.3333333333333333, 'tuna': 0.3333333333333333},\n",
       " 85: {'huge': 0.11111111111111112, 'outdoor': 0.11111111111111112},\n",
       " 67: {'stiff': 0.14285714285714285, 'ep': 0.14285714285714285},\n",
       " 82: {'court': 0.04358865848497672, 'appearance': 0.04358865848497672},\n",
       " 54: {'doll': 1.0},\n",
       " 108: {'chevrolet': 0.09999999999999998, 'volt': 0.09999999999999998},\n",
       " 111: {'russians': 0.14285714285714285, 'find': 0.14285714285714285},\n",
       " 83: {'guardian': 0.16666666666666669, 'law': 0.16666666666666669},\n",
       " 86: {'ten': 0.09999999999999998, 'york': 0.09999999999999998},\n",
       " 101: {'free': 0.09999999999999998, 'attorneys': 0.09999999999999998},\n",
       " 117: {'toyota': 0.125, 'adopts': 0.125},\n",
       " 109: {'digit': 0.0769230769230769, 'jobs': 0.0769230769230769},\n",
       " 89: {'cold': 0.16666666666666669, 'tied': 0.16666666666666669},\n",
       " 55: {'stuxnet': 0.125, 'rise': 0.125},\n",
       " 90: {'steele': 0.125, 'talks': 0.125},\n",
       " 102: {'comment': 0.1005859375, 'settlement': 0.1005859375},\n",
       " 88: {'congratulations': 0.14285714285714285, 'leading': 0.14285714285714285},\n",
       " 68: {'comeback': 0.3333333333333333, 'plea': 0.3333333333333333},\n",
       " 94: {'city': 0.2, 'bill': 0.2},\n",
       " 84: {'judges': 0.16666666666666669, 'ruled': 0.16666666666666669},\n",
       " 120: {'citing': 0.125, 'options': 0.125},\n",
       " 77: {'wave': 0.25, 'cross': 0.25},\n",
       " 121: {'consumption': 1.0},\n",
       " 122: {'listening': 0.08353609083536091, 'story': 0.08353609083536091},\n",
       " 58: {'showing': 0.12545676004872108, 'palin': 0.12545676004872108},\n",
       " 38: {'prince': 0.11111111111111112, 'william': 0.11111111111111112},\n",
       " 105: {'tomorrow': 0.3333333333333333, 'card': 0.3333333333333333},\n",
       " 113: {'flatlines': 0.08353609083536091, 'taxes': 0.08353609083536091},\n",
       " 76: {'bbcworldservice': 0.09090909090909088, 'carry': 0.09090909090909088},\n",
       " 107: {'account': 0.07744360902255638, 'privacy': 0.07744360902255638},\n",
       " 79: {'standing': 0.14285714285714285, 'bully': 0.14285714285714285},\n",
       " 42: {'notw': 0.125, 'tactic': 0.125},\n",
       " 60: {'eligibility': 0.14285714285714285, 'issue': 0.14285714285714285},\n",
       " 73: {'ut': 0.09090909090909088, 'knoxville': 0.09090909090909088}}"
      ]
     },
     "execution_count": 17,
     "metadata": {},
     "output_type": "execute_result"
    },
    {
     "data": {
      "application/javascript": [
       "\n",
       "            setTimeout(function() {\n",
       "                var nbb_cell_id = 17;\n",
       "                var nbb_unformatted_code = \"mstream.get_top_words(num_words_topic=2)\";\n",
       "                var nbb_formatted_code = \"mstream.get_top_words(num_words_topic=2)\";\n",
       "                var nbb_cells = Jupyter.notebook.get_cells();\n",
       "                for (var i = 0; i < nbb_cells.length; ++i) {\n",
       "                    if (nbb_cells[i].input_prompt_number == nbb_cell_id) {\n",
       "                        if (nbb_cells[i].get_text() == nbb_unformatted_code) {\n",
       "                             nbb_cells[i].set_text(nbb_formatted_code);\n",
       "                        }\n",
       "                        break;\n",
       "                    }\n",
       "                }\n",
       "            }, 500);\n",
       "            "
      ],
      "text/plain": [
       "<IPython.core.display.Javascript object>"
      ]
     },
     "metadata": {},
     "output_type": "display_data"
    }
   ],
   "source": [
    "mstream.get_top_words(num_words_topic=2)"
   ]
  },
  {
   "cell_type": "markdown",
   "metadata": {},
   "source": [
    "Caculate the NMI for each batch"
   ]
  },
  {
   "cell_type": "code",
   "execution_count": 67,
   "metadata": {},
   "outputs": [
    {
     "data": {
      "application/javascript": [
       "\n",
       "            setTimeout(function() {\n",
       "                var nbb_cell_id = 67;\n",
       "                var nbb_unformatted_code = \"num_batches = 16\\nnum_total_docs = sum([len(doc_batch) for doc_batch in load_batches(DS_PATHS[2])])\\nbatch_size = math.ceil(num_total_docs / num_batches)\\nmstream = Mstream()\\nnmis = []\\nfor parsed_docs in load_batches(DS_PATHS[2], batch_size):\\n    docs = transform(parsed_docs)\\n    nmi = normalized_mutual_info_score(\\n        [doc[\\\"clusterNo\\\"] for doc in parsed_docs], mstream.process(docs)\\n    )\\n    nmis.append(nmi)\";\n",
       "                var nbb_formatted_code = \"num_batches = 16\\nnum_total_docs = sum([len(doc_batch) for doc_batch in load_batches(DS_PATHS[2])])\\nbatch_size = math.ceil(num_total_docs / num_batches)\\nmstream = Mstream()\\nnmis = []\\nfor parsed_docs in load_batches(DS_PATHS[2], batch_size):\\n    docs = transform(parsed_docs)\\n    nmi = normalized_mutual_info_score(\\n        [doc[\\\"clusterNo\\\"] for doc in parsed_docs], mstream.process(docs)\\n    )\\n    nmis.append(nmi)\";\n",
       "                var nbb_cells = Jupyter.notebook.get_cells();\n",
       "                for (var i = 0; i < nbb_cells.length; ++i) {\n",
       "                    if (nbb_cells[i].input_prompt_number == nbb_cell_id) {\n",
       "                        if (nbb_cells[i].get_text() == nbb_unformatted_code) {\n",
       "                             nbb_cells[i].set_text(nbb_formatted_code);\n",
       "                        }\n",
       "                        break;\n",
       "                    }\n",
       "                }\n",
       "            }, 500);\n",
       "            "
      ],
      "text/plain": [
       "<IPython.core.display.Javascript object>"
      ]
     },
     "metadata": {},
     "output_type": "display_data"
    }
   ],
   "source": [
    "num_batches = 16\n",
    "num_total_docs = sum([len(doc_batch) for doc_batch in load_batches(DS_PATHS[2])])\n",
    "batch_size = math.ceil(num_total_docs / num_batches)\n",
    "mstream = Mstream()\n",
    "nmis = []\n",
    "for parsed_docs in load_batches(DS_PATHS[2], batch_size):\n",
    "    docs = transform(parsed_docs)\n",
    "    nmi = normalized_mutual_info_score(\n",
    "        [doc[\"clusterNo\"] for doc in parsed_docs], mstream.process(docs)\n",
    "    )\n",
    "    nmis.append(nmi)"
   ]
  },
  {
   "cell_type": "code",
   "execution_count": 72,
   "metadata": {
    "scrolled": true
   },
   "outputs": [
    {
     "ename": "ValueError",
     "evalue": "x and y must have same first dimension, but have shapes (16,) and (10,)",
     "output_type": "error",
     "traceback": [
      "\u001b[0;31m---------------------------------------------------------------------------\u001b[0m",
      "\u001b[0;31mValueError\u001b[0m                                Traceback (most recent call last)",
      "\u001b[0;32m<ipython-input-72-b49bced64efe>\u001b[0m in \u001b[0;36m<module>\u001b[0;34m\u001b[0m\n\u001b[0;32m----> 1\u001b[0;31m \u001b[0mplt\u001b[0m\u001b[0;34m.\u001b[0m\u001b[0mplot\u001b[0m\u001b[0;34m(\u001b[0m\u001b[0mrange\u001b[0m\u001b[0;34m(\u001b[0m\u001b[0;36m1\u001b[0m\u001b[0;34m,\u001b[0m \u001b[0mnum_batches\u001b[0m \u001b[0;34m+\u001b[0m \u001b[0;36m1\u001b[0m\u001b[0;34m)\u001b[0m\u001b[0;34m,\u001b[0m \u001b[0mnmis\u001b[0m\u001b[0;34m)\u001b[0m\u001b[0;34m\u001b[0m\u001b[0;34m\u001b[0m\u001b[0m\n\u001b[0m\u001b[1;32m      2\u001b[0m \u001b[0mplt\u001b[0m\u001b[0;34m.\u001b[0m\u001b[0mylabel\u001b[0m\u001b[0;34m(\u001b[0m\u001b[0;34m\"NMI\"\u001b[0m\u001b[0;34m)\u001b[0m\u001b[0;34m\u001b[0m\u001b[0;34m\u001b[0m\u001b[0m\n\u001b[1;32m      3\u001b[0m \u001b[0mplt\u001b[0m\u001b[0;34m.\u001b[0m\u001b[0mxlabel\u001b[0m\u001b[0;34m(\u001b[0m\u001b[0;34m\"Batch number\"\u001b[0m\u001b[0;34m)\u001b[0m\u001b[0;34m\u001b[0m\u001b[0;34m\u001b[0m\u001b[0m\n\u001b[1;32m      4\u001b[0m \u001b[0mplt\u001b[0m\u001b[0;34m.\u001b[0m\u001b[0mtitle\u001b[0m\u001b[0;34m(\u001b[0m\u001b[0;34m\"NMI for each batch\"\u001b[0m\u001b[0;34m)\u001b[0m\u001b[0;34m\u001b[0m\u001b[0;34m\u001b[0m\u001b[0m\n\u001b[1;32m      5\u001b[0m \u001b[0mplt\u001b[0m\u001b[0;34m.\u001b[0m\u001b[0mshow\u001b[0m\u001b[0;34m(\u001b[0m\u001b[0;34m)\u001b[0m\u001b[0;34m\u001b[0m\u001b[0;34m\u001b[0m\u001b[0m\n",
      "\u001b[0;32m~/Documentos/py-mstream/env/lib/python3.8/site-packages/matplotlib/pyplot.py\u001b[0m in \u001b[0;36mplot\u001b[0;34m(scalex, scaley, data, *args, **kwargs)\u001b[0m\n\u001b[1;32m   2759\u001b[0m \u001b[0;34m@\u001b[0m\u001b[0mdocstring\u001b[0m\u001b[0;34m.\u001b[0m\u001b[0mcopy\u001b[0m\u001b[0;34m(\u001b[0m\u001b[0mAxes\u001b[0m\u001b[0;34m.\u001b[0m\u001b[0mplot\u001b[0m\u001b[0;34m)\u001b[0m\u001b[0;34m\u001b[0m\u001b[0;34m\u001b[0m\u001b[0m\n\u001b[1;32m   2760\u001b[0m \u001b[0;32mdef\u001b[0m \u001b[0mplot\u001b[0m\u001b[0;34m(\u001b[0m\u001b[0;34m*\u001b[0m\u001b[0margs\u001b[0m\u001b[0;34m,\u001b[0m \u001b[0mscalex\u001b[0m\u001b[0;34m=\u001b[0m\u001b[0;32mTrue\u001b[0m\u001b[0;34m,\u001b[0m \u001b[0mscaley\u001b[0m\u001b[0;34m=\u001b[0m\u001b[0;32mTrue\u001b[0m\u001b[0;34m,\u001b[0m \u001b[0mdata\u001b[0m\u001b[0;34m=\u001b[0m\u001b[0;32mNone\u001b[0m\u001b[0;34m,\u001b[0m \u001b[0;34m**\u001b[0m\u001b[0mkwargs\u001b[0m\u001b[0;34m)\u001b[0m\u001b[0;34m:\u001b[0m\u001b[0;34m\u001b[0m\u001b[0;34m\u001b[0m\u001b[0m\n\u001b[0;32m-> 2761\u001b[0;31m     return gca().plot(\n\u001b[0m\u001b[1;32m   2762\u001b[0m         *args, scalex=scalex, scaley=scaley, **({\"data\": data} if data\n\u001b[1;32m   2763\u001b[0m         is not None else {}), **kwargs)\n",
      "\u001b[0;32m~/Documentos/py-mstream/env/lib/python3.8/site-packages/matplotlib/axes/_axes.py\u001b[0m in \u001b[0;36mplot\u001b[0;34m(self, scalex, scaley, data, *args, **kwargs)\u001b[0m\n\u001b[1;32m   1644\u001b[0m         \"\"\"\n\u001b[1;32m   1645\u001b[0m         \u001b[0mkwargs\u001b[0m \u001b[0;34m=\u001b[0m \u001b[0mcbook\u001b[0m\u001b[0;34m.\u001b[0m\u001b[0mnormalize_kwargs\u001b[0m\u001b[0;34m(\u001b[0m\u001b[0mkwargs\u001b[0m\u001b[0;34m,\u001b[0m \u001b[0mmlines\u001b[0m\u001b[0;34m.\u001b[0m\u001b[0mLine2D\u001b[0m\u001b[0;34m)\u001b[0m\u001b[0;34m\u001b[0m\u001b[0;34m\u001b[0m\u001b[0m\n\u001b[0;32m-> 1646\u001b[0;31m         \u001b[0mlines\u001b[0m \u001b[0;34m=\u001b[0m \u001b[0;34m[\u001b[0m\u001b[0;34m*\u001b[0m\u001b[0mself\u001b[0m\u001b[0;34m.\u001b[0m\u001b[0m_get_lines\u001b[0m\u001b[0;34m(\u001b[0m\u001b[0;34m*\u001b[0m\u001b[0margs\u001b[0m\u001b[0;34m,\u001b[0m \u001b[0mdata\u001b[0m\u001b[0;34m=\u001b[0m\u001b[0mdata\u001b[0m\u001b[0;34m,\u001b[0m \u001b[0;34m**\u001b[0m\u001b[0mkwargs\u001b[0m\u001b[0;34m)\u001b[0m\u001b[0;34m]\u001b[0m\u001b[0;34m\u001b[0m\u001b[0;34m\u001b[0m\u001b[0m\n\u001b[0m\u001b[1;32m   1647\u001b[0m         \u001b[0;32mfor\u001b[0m \u001b[0mline\u001b[0m \u001b[0;32min\u001b[0m \u001b[0mlines\u001b[0m\u001b[0;34m:\u001b[0m\u001b[0;34m\u001b[0m\u001b[0;34m\u001b[0m\u001b[0m\n\u001b[1;32m   1648\u001b[0m             \u001b[0mself\u001b[0m\u001b[0;34m.\u001b[0m\u001b[0madd_line\u001b[0m\u001b[0;34m(\u001b[0m\u001b[0mline\u001b[0m\u001b[0;34m)\u001b[0m\u001b[0;34m\u001b[0m\u001b[0;34m\u001b[0m\u001b[0m\n",
      "\u001b[0;32m~/Documentos/py-mstream/env/lib/python3.8/site-packages/matplotlib/axes/_base.py\u001b[0m in \u001b[0;36m__call__\u001b[0;34m(self, *args, **kwargs)\u001b[0m\n\u001b[1;32m    214\u001b[0m                 \u001b[0mthis\u001b[0m \u001b[0;34m+=\u001b[0m \u001b[0margs\u001b[0m\u001b[0;34m[\u001b[0m\u001b[0;36m0\u001b[0m\u001b[0;34m]\u001b[0m\u001b[0;34m,\u001b[0m\u001b[0;34m\u001b[0m\u001b[0;34m\u001b[0m\u001b[0m\n\u001b[1;32m    215\u001b[0m                 \u001b[0margs\u001b[0m \u001b[0;34m=\u001b[0m \u001b[0margs\u001b[0m\u001b[0;34m[\u001b[0m\u001b[0;36m1\u001b[0m\u001b[0;34m:\u001b[0m\u001b[0;34m]\u001b[0m\u001b[0;34m\u001b[0m\u001b[0;34m\u001b[0m\u001b[0m\n\u001b[0;32m--> 216\u001b[0;31m             \u001b[0;32myield\u001b[0m \u001b[0;32mfrom\u001b[0m \u001b[0mself\u001b[0m\u001b[0;34m.\u001b[0m\u001b[0m_plot_args\u001b[0m\u001b[0;34m(\u001b[0m\u001b[0mthis\u001b[0m\u001b[0;34m,\u001b[0m \u001b[0mkwargs\u001b[0m\u001b[0;34m)\u001b[0m\u001b[0;34m\u001b[0m\u001b[0;34m\u001b[0m\u001b[0m\n\u001b[0m\u001b[1;32m    217\u001b[0m \u001b[0;34m\u001b[0m\u001b[0m\n\u001b[1;32m    218\u001b[0m     \u001b[0;32mdef\u001b[0m \u001b[0mget_next_color\u001b[0m\u001b[0;34m(\u001b[0m\u001b[0mself\u001b[0m\u001b[0;34m)\u001b[0m\u001b[0;34m:\u001b[0m\u001b[0;34m\u001b[0m\u001b[0;34m\u001b[0m\u001b[0m\n",
      "\u001b[0;32m~/Documentos/py-mstream/env/lib/python3.8/site-packages/matplotlib/axes/_base.py\u001b[0m in \u001b[0;36m_plot_args\u001b[0;34m(self, tup, kwargs)\u001b[0m\n\u001b[1;32m    340\u001b[0m \u001b[0;34m\u001b[0m\u001b[0m\n\u001b[1;32m    341\u001b[0m         \u001b[0;32mif\u001b[0m \u001b[0mx\u001b[0m\u001b[0;34m.\u001b[0m\u001b[0mshape\u001b[0m\u001b[0;34m[\u001b[0m\u001b[0;36m0\u001b[0m\u001b[0;34m]\u001b[0m \u001b[0;34m!=\u001b[0m \u001b[0my\u001b[0m\u001b[0;34m.\u001b[0m\u001b[0mshape\u001b[0m\u001b[0;34m[\u001b[0m\u001b[0;36m0\u001b[0m\u001b[0;34m]\u001b[0m\u001b[0;34m:\u001b[0m\u001b[0;34m\u001b[0m\u001b[0;34m\u001b[0m\u001b[0m\n\u001b[0;32m--> 342\u001b[0;31m             raise ValueError(f\"x and y must have same first dimension, but \"\n\u001b[0m\u001b[1;32m    343\u001b[0m                              f\"have shapes {x.shape} and {y.shape}\")\n\u001b[1;32m    344\u001b[0m         \u001b[0;32mif\u001b[0m \u001b[0mx\u001b[0m\u001b[0;34m.\u001b[0m\u001b[0mndim\u001b[0m \u001b[0;34m>\u001b[0m \u001b[0;36m2\u001b[0m \u001b[0;32mor\u001b[0m \u001b[0my\u001b[0m\u001b[0;34m.\u001b[0m\u001b[0mndim\u001b[0m \u001b[0;34m>\u001b[0m \u001b[0;36m2\u001b[0m\u001b[0;34m:\u001b[0m\u001b[0;34m\u001b[0m\u001b[0;34m\u001b[0m\u001b[0m\n",
      "\u001b[0;31mValueError\u001b[0m: x and y must have same first dimension, but have shapes (16,) and (10,)"
     ]
    },
    {
     "data": {
      "image/png": "[encoded data removed]",
      "text/plain": [
       "<Figure size 432x288 with 1 Axes>"
      ]
     },
     "metadata": {
      "needs_background": "light"
     },
     "output_type": "display_data"
    },
    {
     "data": {
      "application/javascript": [
       "\n",
       "            setTimeout(function() {\n",
       "                var nbb_cell_id = 72;\n",
       "                var nbb_unformatted_code = \"plt.plot(range(1, num_batches + 1), nmis)\\nplt.ylabel(\\\"NMI\\\")\\nplt.xlabel(\\\"Batch number\\\")\\nplt.title(\\\"NMI for each batch\\\")\\nplt.show()\";\n",
       "                var nbb_formatted_code = \"plt.plot(range(1, num_batches + 1), nmis)\\nplt.ylabel(\\\"NMI\\\")\\nplt.xlabel(\\\"Batch number\\\")\\nplt.title(\\\"NMI for each batch\\\")\\nplt.show()\";\n",
       "                var nbb_cells = Jupyter.notebook.get_cells();\n",
       "                for (var i = 0; i < nbb_cells.length; ++i) {\n",
       "                    if (nbb_cells[i].input_prompt_number == nbb_cell_id) {\n",
       "                        if (nbb_cells[i].get_text() == nbb_unformatted_code) {\n",
       "                             nbb_cells[i].set_text(nbb_formatted_code);\n",
       "                        }\n",
       "                        break;\n",
       "                    }\n",
       "                }\n",
       "            }, 500);\n",
       "            "
      ],
      "text/plain": [
       "<IPython.core.display.Javascript object>"
      ]
     },
     "metadata": {},
     "output_type": "display_data"
    }
   ],
   "source": [
    "plt.plot(range(1, num_batches + 1), nmis)\n",
    "plt.ylabel(\"NMI\")\n",
    "plt.xlabel(\"Batch number\")\n",
    "plt.title(\"NMI for each batch\")\n",
    "plt.show()"
   ]
  },
  {
   "cell_type": "markdown",
   "metadata": {},
   "source": [
    "Calculate the NMI as a function of the number of iterations"
   ]
  },
  {
   "cell_type": "code",
   "execution_count": 29,
   "metadata": {},
   "outputs": [
    {
     "data": {
      "application/javascript": [
       "\n",
       "            setTimeout(function() {\n",
       "                var nbb_cell_id = 29;\n",
       "                var nbb_unformatted_code = \"num_batches = 16\\nmax_num_iter = 11\\nnum_iters = list(range(10, max_num_iter))\\nds_nmis = []\\nfor ds_path in DS_PATHS:\\n    num_total_docs = sum([len(batch) for batch in load_batches(ds_path)])\\n    batch_size = math.ceil(num_total_docs / num_batches)\\n    batch_size = 1\\n    nmis = []\\n    for num_iter in num_iters:\\n        mstream = Mstream(num_iter)\\n        y_hat = []\\n        y = []\\n        for parsed_docs in load_batches(ds_path, batch_size):\\n            y += [doc[\\\"clusterNo\\\"] for doc in parsed_docs]\\n            y_hat += mstream.process(transform(parsed_docs))\\n        nmi = normalized_mutual_info_score(y, y_hat)\\n        nmis.append(nmi)\\n    ds_nmis.append(nmis)\";\n",
       "                var nbb_formatted_code = \"num_batches = 16\\nmax_num_iter = 11\\nnum_iters = list(range(10, max_num_iter))\\nds_nmis = []\\nfor ds_path in DS_PATHS:\\n    num_total_docs = sum([len(batch) for batch in load_batches(ds_path)])\\n    batch_size = math.ceil(num_total_docs / num_batches)\\n    batch_size = 1\\n    nmis = []\\n    for num_iter in num_iters:\\n        mstream = Mstream(num_iter)\\n        y_hat = []\\n        y = []\\n        for parsed_docs in load_batches(ds_path, batch_size):\\n            y += [doc[\\\"clusterNo\\\"] for doc in parsed_docs]\\n            y_hat += mstream.process(transform(parsed_docs))\\n        nmi = normalized_mutual_info_score(y, y_hat)\\n        nmis.append(nmi)\\n    ds_nmis.append(nmis)\";\n",
       "                var nbb_cells = Jupyter.notebook.get_cells();\n",
       "                for (var i = 0; i < nbb_cells.length; ++i) {\n",
       "                    if (nbb_cells[i].input_prompt_number == nbb_cell_id) {\n",
       "                        if (nbb_cells[i].get_text() == nbb_unformatted_code) {\n",
       "                             nbb_cells[i].set_text(nbb_formatted_code);\n",
       "                        }\n",
       "                        break;\n",
       "                    }\n",
       "                }\n",
       "            }, 500);\n",
       "            "
      ],
      "text/plain": [
       "<IPython.core.display.Javascript object>"
      ]
     },
     "metadata": {},
     "output_type": "display_data"
    }
   ],
   "source": [
    "num_batches = 16\n",
    "max_num_iter = 11\n",
    "num_iters = list(range(1, max_num_iter))\n",
    "ds_nmis = []\n",
    "for ds_path in DS_PATHS:\n",
    "    num_total_docs = sum([len(batch) for batch in load_batches(ds_path)])\n",
    "    batch_size = math.ceil(num_total_docs / num_batches)\n",
    "    batch_size = 1\n",
    "    nmis = []\n",
    "    for num_iter in num_iters:\n",
    "        mstream = Mstream(num_iter)\n",
    "        y_hat = []\n",
    "        y = []\n",
    "        for parsed_docs in load_batches(ds_path, batch_size):\n",
    "            y += [doc[\"clusterNo\"] for doc in parsed_docs]\n",
    "            y_hat += mstream.process(transform(parsed_docs))\n",
    "        nmi = normalized_mutual_info_score(y, y_hat)\n",
    "        nmis.append(nmi)\n",
    "    ds_nmis.append(nmis)"
   ]
  },
  {
   "cell_type": "code",
   "execution_count": 30,
   "metadata": {},
   "outputs": [
    {
     "data": {
      "text/plain": [
       "<matplotlib.legend.Legend at 0x7f71a6aa7760>"
      ]
     },
     "execution_count": 30,
     "metadata": {},
     "output_type": "execute_result"
    },
    {
     "data": {
      "image/png": "[encoded data removed]",
      "text/plain": [
       "<Figure size 432x288 with 1 Axes>"
      ]
     },
     "metadata": {},
     "output_type": "display_data"
    },
    {
     "data": {
      "application/javascript": [
       "\n",
       "            setTimeout(function() {\n",
       "                var nbb_cell_id = 30;\n",
       "                var nbb_unformatted_code = \"fig, ax = plt.subplots()\\nax.set_title(\\\"NMI wrt num. iterations\\\")\\nax.set_xlabel(\\\"num. iterations\\\")\\nax.set_ylabel(\\\"NMI\\\")\\n# ax.set_yticks(np.arange(0.5, 1.1, step=0.1))\\nax.set_ylim(0.5, 1)\\nfor i, ds_nmi in enumerate(ds_nmis):\\n    ax.plot(num_iters, ds_nmi, label=DS_NAMES[i])\\nax.legend()\";\n",
       "                var nbb_formatted_code = \"fig, ax = plt.subplots()\\nax.set_title(\\\"NMI wrt num. iterations\\\")\\nax.set_xlabel(\\\"num. iterations\\\")\\nax.set_ylabel(\\\"NMI\\\")\\n# ax.set_yticks(np.arange(0.5, 1.1, step=0.1))\\nax.set_ylim(0.5, 1)\\nfor i, ds_nmi in enumerate(ds_nmis):\\n    ax.plot(num_iters, ds_nmi, label=DS_NAMES[i])\\nax.legend()\";\n",
       "                var nbb_cells = Jupyter.notebook.get_cells();\n",
       "                for (var i = 0; i < nbb_cells.length; ++i) {\n",
       "                    if (nbb_cells[i].input_prompt_number == nbb_cell_id) {\n",
       "                        if (nbb_cells[i].get_text() == nbb_unformatted_code) {\n",
       "                             nbb_cells[i].set_text(nbb_formatted_code);\n",
       "                        }\n",
       "                        break;\n",
       "                    }\n",
       "                }\n",
       "            }, 500);\n",
       "            "
      ],
      "text/plain": [
       "<IPython.core.display.Javascript object>"
      ]
     },
     "metadata": {},
     "output_type": "display_data"
    }
   ],
   "source": [
    "fig, ax = plt.subplots()\n",
    "ax.set_title(\"NMI wrt num. iterations\")\n",
    "ax.set_xlabel(\"num. iterations\")\n",
    "ax.set_ylabel(\"NMI\")\n",
    "# ax.set_yticks(np.arange(0.5, 1.1, step=0.1))\n",
    "ax.set_ylim(0.5, 1)\n",
    "for i, ds_nmi in enumerate(ds_nmis):\n",
    "    ax.plot(num_iters, ds_nmi, label=DS_NAMES[i])\n",
    "ax.legend()"
   ]
  }
 ],
 "metadata": {
  "kernelspec": {
   "display_name": "Python 3",
   "language": "python",
   "name": "python3"
  },
  "language_info": {
   "codemirror_mode": {
    "name": "ipython",
    "version": 3
   },
   "file_extension": ".py",
   "mimetype": "text/x-python",
   "name": "python",
   "nbconvert_exporter": "python",
   "pygments_lexer": "ipython3",
   "version": "3.8.0"
  }
 },
 "nbformat": 4,
 "nbformat_minor": 4
}
