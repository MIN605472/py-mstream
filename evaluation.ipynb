{
 "cells": [
  {
   "cell_type": "code",
   "execution_count": 1,
   "metadata": {},
   "outputs": [
    {
     "data": {
      "application/javascript": [
       "\n",
       "            setTimeout(function() {\n",
       "                var nbb_cell_id = 1;\n",
       "                var nbb_unformatted_code = \"%load_ext nb_black\\n%load_ext autoreload\\n%autoreload 2\";\n",
       "                var nbb_formatted_code = \"%load_ext nb_black\\n%load_ext autoreload\\n%autoreload 2\";\n",
       "                var nbb_cells = Jupyter.notebook.get_cells();\n",
       "                for (var i = 0; i < nbb_cells.length; ++i) {\n",
       "                    if (nbb_cells[i].input_prompt_number == nbb_cell_id) {\n",
       "                        if (nbb_cells[i].get_text() == nbb_unformatted_code) {\n",
       "                             nbb_cells[i].set_text(nbb_formatted_code);\n",
       "                        }\n",
       "                        break;\n",
       "                    }\n",
       "                }\n",
       "            }, 500);\n",
       "            "
      ],
      "text/plain": [
       "<IPython.core.display.Javascript object>"
      ]
     },
     "metadata": {},
     "output_type": "display_data"
    }
   ],
   "source": [
    "%load_ext nb_black\n",
    "%load_ext autoreload\n",
    "%autoreload 2"
   ]
  },
  {
   "cell_type": "code",
   "execution_count": 39,
   "metadata": {},
   "outputs": [
    {
     "data": {
      "application/javascript": [
       "\n",
       "            setTimeout(function() {\n",
       "                var nbb_cell_id = 39;\n",
       "                var nbb_unformatted_code = \"import json\\nimport os\\nimport time\\nimport math\\nimport matplotlib.pyplot as plt\\nimport numpy as np\\nfrom sklearn.metrics.cluster import normalized_mutual_info_score\\nfrom mstream.mstream import Mstream\\n\\nplt.style.use(\\\"ggplot\\\")\";\n",
       "                var nbb_formatted_code = \"import json\\nimport os\\nimport time\\nimport math\\nimport matplotlib.pyplot as plt\\nimport numpy as np\\nfrom sklearn.metrics.cluster import normalized_mutual_info_score\\nfrom mstream.mstream import Mstream\\n\\nplt.style.use(\\\"ggplot\\\")\";\n",
       "                var nbb_cells = Jupyter.notebook.get_cells();\n",
       "                for (var i = 0; i < nbb_cells.length; ++i) {\n",
       "                    if (nbb_cells[i].input_prompt_number == nbb_cell_id) {\n",
       "                        if (nbb_cells[i].get_text() == nbb_unformatted_code) {\n",
       "                             nbb_cells[i].set_text(nbb_formatted_code);\n",
       "                        }\n",
       "                        break;\n",
       "                    }\n",
       "                }\n",
       "            }, 500);\n",
       "            "
      ],
      "text/plain": [
       "<IPython.core.display.Javascript object>"
      ]
     },
     "metadata": {},
     "output_type": "display_data"
    }
   ],
   "source": [
    "import json\n",
    "import os\n",
    "import time\n",
    "import math\n",
    "import matplotlib.pyplot as plt\n",
    "import numpy as np\n",
    "from sklearn.metrics.cluster import normalized_mutual_info_score\n",
    "from mstream.mstream import Mstream\n",
    "\n",
    "plt.style.use(\"ggplot\")"
   ]
  },
  {
   "cell_type": "code",
   "execution_count": 3,
   "metadata": {},
   "outputs": [
    {
     "data": {
      "application/javascript": [
       "\n",
       "            setTimeout(function() {\n",
       "                var nbb_cell_id = 3;\n",
       "                var nbb_unformatted_code = \"DS_DIR = \\\"data\\\"\\nDS_NAMES = [\\\"News\\\", \\\"News-T\\\", \\\"Tweets\\\", \\\"Tweets-T\\\"]\\nDS_PATHS = [os.path.join(DS_DIR, ds_name) for ds_name in DS_NAMES]\";\n",
       "                var nbb_formatted_code = \"DS_DIR = \\\"data\\\"\\nDS_NAMES = [\\\"News\\\", \\\"News-T\\\", \\\"Tweets\\\", \\\"Tweets-T\\\"]\\nDS_PATHS = [os.path.join(DS_DIR, ds_name) for ds_name in DS_NAMES]\";\n",
       "                var nbb_cells = Jupyter.notebook.get_cells();\n",
       "                for (var i = 0; i < nbb_cells.length; ++i) {\n",
       "                    if (nbb_cells[i].input_prompt_number == nbb_cell_id) {\n",
       "                        if (nbb_cells[i].get_text() == nbb_unformatted_code) {\n",
       "                             nbb_cells[i].set_text(nbb_formatted_code);\n",
       "                        }\n",
       "                        break;\n",
       "                    }\n",
       "                }\n",
       "            }, 500);\n",
       "            "
      ],
      "text/plain": [
       "<IPython.core.display.Javascript object>"
      ]
     },
     "metadata": {},
     "output_type": "display_data"
    }
   ],
   "source": [
    "DS_DIR = \"data\"\n",
    "DS_NAMES = [\"News\", \"News-T\", \"Tweets\", \"Tweets-T\"]\n",
    "DS_PATHS = [os.path.join(DS_DIR, ds_name) for ds_name in DS_NAMES]"
   ]
  },
  {
   "cell_type": "code",
   "execution_count": 4,
   "metadata": {},
   "outputs": [
    {
     "data": {
      "application/javascript": [
       "\n",
       "            setTimeout(function() {\n",
       "                var nbb_cell_id = 4;\n",
       "                var nbb_unformatted_code = \"def load_batches(ds_path, batch_size=int(2 ** 8)):\\n    with open(ds_path) as f:\\n        docs = []\\n        for line in f:\\n            parsed_line = json.loads(line)\\n            docs.append(parsed_line)\\n            if len(docs) == batch_size:\\n                yield docs\\n                docs = []\\n        if len(docs) > 0:\\n            yield docs\";\n",
       "                var nbb_formatted_code = \"def load_batches(ds_path, batch_size=int(2 ** 8)):\\n    with open(ds_path) as f:\\n        docs = []\\n        for line in f:\\n            parsed_line = json.loads(line)\\n            docs.append(parsed_line)\\n            if len(docs) == batch_size:\\n                yield docs\\n                docs = []\\n        if len(docs) > 0:\\n            yield docs\";\n",
       "                var nbb_cells = Jupyter.notebook.get_cells();\n",
       "                for (var i = 0; i < nbb_cells.length; ++i) {\n",
       "                    if (nbb_cells[i].input_prompt_number == nbb_cell_id) {\n",
       "                        if (nbb_cells[i].get_text() == nbb_unformatted_code) {\n",
       "                             nbb_cells[i].set_text(nbb_formatted_code);\n",
       "                        }\n",
       "                        break;\n",
       "                    }\n",
       "                }\n",
       "            }, 500);\n",
       "            "
      ],
      "text/plain": [
       "<IPython.core.display.Javascript object>"
      ]
     },
     "metadata": {},
     "output_type": "display_data"
    }
   ],
   "source": [
    "def load_batches(ds_path, batch_size=int(2 ** 8)):\n",
    "    with open(ds_path) as f:\n",
    "        docs = []\n",
    "        for line in f:\n",
    "            parsed_line = json.loads(line)\n",
    "            docs.append(parsed_line)\n",
    "            if len(docs) == batch_size:\n",
    "                yield docs\n",
    "                docs = []\n",
    "        if len(docs) > 0:\n",
    "            yield docs"
   ]
  },
  {
   "cell_type": "code",
   "execution_count": 5,
   "metadata": {},
   "outputs": [
    {
     "data": {
      "application/javascript": [
       "\n",
       "            setTimeout(function() {\n",
       "                var nbb_cell_id = 5;\n",
       "                var nbb_unformatted_code = \"def transform(docs):\\n    return [{\\\"id\\\": doc[\\\"Id\\\"], \\\"word_list\\\": doc[\\\"textCleaned\\\"].split()} for doc in docs]\";\n",
       "                var nbb_formatted_code = \"def transform(docs):\\n    return [{\\\"id\\\": doc[\\\"Id\\\"], \\\"word_list\\\": doc[\\\"textCleaned\\\"].split()} for doc in docs]\";\n",
       "                var nbb_cells = Jupyter.notebook.get_cells();\n",
       "                for (var i = 0; i < nbb_cells.length; ++i) {\n",
       "                    if (nbb_cells[i].input_prompt_number == nbb_cell_id) {\n",
       "                        if (nbb_cells[i].get_text() == nbb_unformatted_code) {\n",
       "                             nbb_cells[i].set_text(nbb_formatted_code);\n",
       "                        }\n",
       "                        break;\n",
       "                    }\n",
       "                }\n",
       "            }, 500);\n",
       "            "
      ],
      "text/plain": [
       "<IPython.core.display.Javascript object>"
      ]
     },
     "metadata": {},
     "output_type": "display_data"
    }
   ],
   "source": [
    "def transform(docs):\n",
    "    return [{\"id\": doc[\"Id\"], \"words\": doc[\"textCleaned\"].split()} for doc in docs]"
   ]
  },
  {
   "cell_type": "code",
   "execution_count": 55,
   "metadata": {
    "scrolled": false
   },
   "outputs": [
    {
     "name": "stdout",
     "output_type": "stream",
     "text": [
      "14.030085275999227\n",
      "17.009641792000366\n",
      "20.001586689999385\n",
      "21.420709280000665\n",
      "24.595173527999577\n",
      "28.437869870000213\n",
      "29.368140606000452\n",
      "32.07285894100005\n",
      "32.89724488899992\n",
      "34.198003655999855\n",
      "36.99455360600041\n",
      "38.37858910599971\n",
      "35.96898476299975\n",
      "39.53544112599957\n",
      "44.6034454239998\n",
      "41.44599424599983\n",
      "41.680216302999725\n"
     ]
    },
    {
     "data": {
      "application/javascript": [
       "\n",
       "            setTimeout(function() {\n",
       "                var nbb_cell_id = 55;\n",
       "                var nbb_unformatted_code = \"num_docs = sum([len(doc_batch) for doc_batch in load_batches(DS_PATHS[2])])\\nbatch_size = math.ceil(num_docs / 17)\\nmstream = Mstream()\\ny = []\\ntimes = []\\nfor parsed_docs in load_batches(DS_PATHS[2], batch_size):\\n    t0 = time.process_time()\\n    y += mstream.process(transform(parsed_docs))\\n    t1 = time.process_time()\\n    print(t1-t0)\\n    times.append(t1 - t0)\";\n",
       "                var nbb_formatted_code = \"num_docs = sum([len(doc_batch) for doc_batch in load_batches(DS_PATHS[2])])\\nbatch_size = math.ceil(num_docs / 17)\\nmstream = Mstream()\\ny = []\\ntimes = []\\nfor parsed_docs in load_batches(DS_PATHS[2], batch_size):\\n    t0 = time.process_time()\\n    y += mstream.process(transform(parsed_docs))\\n    t1 = time.process_time()\\n    print(t1 - t0)\\n    times.append(t1 - t0)\";\n",
       "                var nbb_cells = Jupyter.notebook.get_cells();\n",
       "                for (var i = 0; i < nbb_cells.length; ++i) {\n",
       "                    if (nbb_cells[i].input_prompt_number == nbb_cell_id) {\n",
       "                        if (nbb_cells[i].get_text() == nbb_unformatted_code) {\n",
       "                             nbb_cells[i].set_text(nbb_formatted_code);\n",
       "                        }\n",
       "                        break;\n",
       "                    }\n",
       "                }\n",
       "            }, 500);\n",
       "            "
      ],
      "text/plain": [
       "<IPython.core.display.Javascript object>"
      ]
     },
     "metadata": {},
     "output_type": "display_data"
    }
   ],
   "source": [
    "num_docs = sum([len(doc_batch) for doc_batch in load_batches(DS_PATHS[2])])\n",
    "batch_size = math.ceil(num_docs / 17)\n",
    "mstream = Mstream()\n",
    "y = []\n",
    "times = []\n",
    "for parsed_docs in load_batches(DS_PATHS[2], batch_size):\n",
    "    t0 = time.process_time()\n",
    "    y += mstream.process(transform(parsed_docs))\n",
    "    t1 = time.process_time()\n",
    "    print(t1 - t0)\n",
    "    times.append(t1 - t0)"
   ]
  },
  {
   "cell_type": "code",
   "execution_count": 57,
   "metadata": {},
   "outputs": [
    {
     "data": {
      "text/plain": [
       "array([ 14.03008528,  31.03972707,  51.04131376,  72.46202304,\n",
       "        97.05719657, 125.49506644, 154.86320704, 186.93606598,\n",
       "       219.83331087, 254.03131453, 291.02586813, 329.40445724,\n",
       "       365.373442  , 404.90888313, 449.51232855, 490.9583228 ,\n",
       "       532.6385391 ])"
      ]
     },
     "execution_count": 57,
     "metadata": {},
     "output_type": "execute_result"
    },
    {
     "data": {
      "application/javascript": [
       "\n",
       "            setTimeout(function() {\n",
       "                var nbb_cell_id = 57;\n",
       "                var nbb_unformatted_code = \"np.cumsum(np.array(times))\";\n",
       "                var nbb_formatted_code = \"np.cumsum(np.array(times))\";\n",
       "                var nbb_cells = Jupyter.notebook.get_cells();\n",
       "                for (var i = 0; i < nbb_cells.length; ++i) {\n",
       "                    if (nbb_cells[i].input_prompt_number == nbb_cell_id) {\n",
       "                        if (nbb_cells[i].get_text() == nbb_unformatted_code) {\n",
       "                             nbb_cells[i].set_text(nbb_formatted_code);\n",
       "                        }\n",
       "                        break;\n",
       "                    }\n",
       "                }\n",
       "            }, 500);\n",
       "            "
      ],
      "text/plain": [
       "<IPython.core.display.Javascript object>"
      ]
     },
     "metadata": {},
     "output_type": "display_data"
    }
   ],
   "source": [
    "np.cumsum(np.array(times))"
   ]
  },
  {
   "cell_type": "code",
   "execution_count": 90,
   "metadata": {},
   "outputs": [
    {
     "data": {
      "text/plain": [
       "array([[0.04310477, 0.        , 0.        , ..., 0.        , 0.        ,\n",
       "        0.        ],\n",
       "       [0.00681148, 0.        , 0.01863771, ..., 0.        , 1.        ,\n",
       "        0.        ],\n",
       "       [0.        , 0.        , 0.06147733, ..., 0.        , 0.        ,\n",
       "        0.        ],\n",
       "       ...,\n",
       "       [0.        , 0.        , 0.        , ..., 0.        , 0.        ,\n",
       "        0.        ],\n",
       "       [0.        , 0.        , 0.        , ..., 0.        , 0.        ,\n",
       "        0.        ],\n",
       "       [0.        , 0.        , 0.        , ..., 0.        , 0.        ,\n",
       "        0.        ]])"
      ]
     },
     "execution_count": 90,
     "metadata": {},
     "output_type": "execute_result"
    },
    {
     "data": {
      "application/javascript": [
       "\n",
       "            setTimeout(function() {\n",
       "                var nbb_cell_id = 90;\n",
       "                var nbb_unformatted_code = \"m = mstream.topic_term_pmf()\\nm\";\n",
       "                var nbb_formatted_code = \"m = mstream.topic_term_pmf()\\nm\";\n",
       "                var nbb_cells = Jupyter.notebook.get_cells();\n",
       "                for (var i = 0; i < nbb_cells.length; ++i) {\n",
       "                    if (nbb_cells[i].input_prompt_number == nbb_cell_id) {\n",
       "                        if (nbb_cells[i].get_text() == nbb_unformatted_code) {\n",
       "                             nbb_cells[i].set_text(nbb_formatted_code);\n",
       "                        }\n",
       "                        break;\n",
       "                    }\n",
       "                }\n",
       "            }, 500);\n",
       "            "
      ],
      "text/plain": [
       "<IPython.core.display.Javascript object>"
      ]
     },
     "metadata": {},
     "output_type": "display_data"
    }
   ],
   "source": [
    "m = mstream.topic_term_pmf()\n",
    "m"
   ]
  },
  {
   "cell_type": "markdown",
   "metadata": {},
   "source": [
    "Caculate the NMI for each batch"
   ]
  },
  {
   "cell_type": "markdown",
   "metadata": {},
   "source": [
    "Calculate the NMI as a function of the number of iterations"
   ]
  },
  {
   "cell_type": "code",
   "execution_count": 92,
   "metadata": {},
   "outputs": [
    {
     "data": {
      "application/javascript": [
       "\n",
       "            setTimeout(function() {\n",
       "                var nbb_cell_id = 92;\n",
       "                var nbb_unformatted_code = \"num_batches = 16\\nmax_num_iter = 11\\nnum_iters = list(range(1, max_num_iter))\\nds_nmis = []\\nfor ds_path in [DS_PATHS[2]]:\\n    num_total_docs = sum([len(batch) for batch in load_batches(ds_path)])\\n    batch_size = math.ceil(num_total_docs / num_batches)\\n    batch_size = 1\\n    nmis = []\\n    for num_iter in num_iters:\\n        mstream = Mstream(num_iter)\\n        y_hat = []\\n        y = []\\n        for parsed_docs in load_batches(ds_path, batch_size):\\n            y += [doc[\\\"clusterNo\\\"] for doc in parsed_docs]\\n            y_hat += mstream.process(transform(parsed_docs))\\n        nmi = normalized_mutual_info_score(y, y_hat)\\n        nmis.append(nmi)\\n    ds_nmis.append(nmis)\";\n",
       "                var nbb_formatted_code = \"num_batches = 16\\nmax_num_iter = 11\\nnum_iters = list(range(1, max_num_iter))\\nds_nmis = []\\nfor ds_path in [DS_PATHS[2]]:\\n    num_total_docs = sum([len(batch) for batch in load_batches(ds_path)])\\n    batch_size = math.ceil(num_total_docs / num_batches)\\n    batch_size = 1\\n    nmis = []\\n    for num_iter in num_iters:\\n        mstream = Mstream(num_iter)\\n        y_hat = []\\n        y = []\\n        for parsed_docs in load_batches(ds_path, batch_size):\\n            y += [doc[\\\"clusterNo\\\"] for doc in parsed_docs]\\n            y_hat += mstream.process(transform(parsed_docs))\\n        nmi = normalized_mutual_info_score(y, y_hat)\\n        nmis.append(nmi)\\n    ds_nmis.append(nmis)\";\n",
       "                var nbb_cells = Jupyter.notebook.get_cells();\n",
       "                for (var i = 0; i < nbb_cells.length; ++i) {\n",
       "                    if (nbb_cells[i].input_prompt_number == nbb_cell_id) {\n",
       "                        if (nbb_cells[i].get_text() == nbb_unformatted_code) {\n",
       "                             nbb_cells[i].set_text(nbb_formatted_code);\n",
       "                        }\n",
       "                        break;\n",
       "                    }\n",
       "                }\n",
       "            }, 500);\n",
       "            "
      ],
      "text/plain": [
       "<IPython.core.display.Javascript object>"
      ]
     },
     "metadata": {},
     "output_type": "display_data"
    }
   ],
   "source": [
    "num_batches = 16\n",
    "max_num_iter = 11\n",
    "num_iters = list(range(1, max_num_iter))\n",
    "ds_nmis = []\n",
    "for ds_path in [DS_PATHS[2]]:\n",
    "    num_total_docs = sum([len(batch) for batch in load_batches(ds_path)])\n",
    "    batch_size = math.ceil(num_total_docs / num_batches)\n",
    "    nmis = []\n",
    "    for num_iter in num_iters:\n",
    "        mstream = Mstream(num_iter)\n",
    "        y_hat = []\n",
    "        y = []\n",
    "        for parsed_docs in load_batches(ds_path, batch_size):\n",
    "            y += [doc[\"clusterNo\"] for doc in parsed_docs]\n",
    "            y_hat += mstream.process(transform(parsed_docs))\n",
    "        nmi = normalized_mutual_info_score(y, y_hat)\n",
    "        nmis.append(nmi)\n",
    "    ds_nmis.append(nmis)"
   ]
  },
  {
   "cell_type": "code",
   "execution_count": 93,
   "metadata": {},
   "outputs": [
    {
     "data": {
      "text/plain": [
       "<matplotlib.legend.Legend at 0x7faeb8cdb610>"
      ]
     },
     "execution_count": 93,
     "metadata": {},
     "output_type": "execute_result"
    },
    {
     "data": {
      "image/png": "[encoded data removed]",
      "text/plain": [
       "<Figure size 432x288 with 1 Axes>"
      ]
     },
     "metadata": {},
     "output_type": "display_data"
    },
    {
     "data": {
      "application/javascript": [
       "\n",
       "            setTimeout(function() {\n",
       "                var nbb_cell_id = 93;\n",
       "                var nbb_unformatted_code = \"fig, ax = plt.subplots()\\nax.set_title(\\\"NMI wrt num. iterations\\\")\\nax.set_xlabel(\\\"num. iterations\\\")\\nax.set_ylabel(\\\"NMI\\\")\\n# ax.set_yticks(np.arange(0.5, 1.1, step=0.1))\\nax.set_ylim(0.5, 1)\\nfor i, ds_nmi in enumerate(ds_nmis):\\n    ax.plot(num_iters, ds_nmi, label=DS_NAMES[i])\\nax.legend()\";\n",
       "                var nbb_formatted_code = \"fig, ax = plt.subplots()\\nax.set_title(\\\"NMI wrt num. iterations\\\")\\nax.set_xlabel(\\\"num. iterations\\\")\\nax.set_ylabel(\\\"NMI\\\")\\n# ax.set_yticks(np.arange(0.5, 1.1, step=0.1))\\nax.set_ylim(0.5, 1)\\nfor i, ds_nmi in enumerate(ds_nmis):\\n    ax.plot(num_iters, ds_nmi, label=DS_NAMES[i])\\nax.legend()\";\n",
       "                var nbb_cells = Jupyter.notebook.get_cells();\n",
       "                for (var i = 0; i < nbb_cells.length; ++i) {\n",
       "                    if (nbb_cells[i].input_prompt_number == nbb_cell_id) {\n",
       "                        if (nbb_cells[i].get_text() == nbb_unformatted_code) {\n",
       "                             nbb_cells[i].set_text(nbb_formatted_code);\n",
       "                        }\n",
       "                        break;\n",
       "                    }\n",
       "                }\n",
       "            }, 500);\n",
       "            "
      ],
      "text/plain": [
       "<IPython.core.display.Javascript object>"
      ]
     },
     "metadata": {},
     "output_type": "display_data"
    }
   ],
   "source": [
    "fig, ax = plt.subplots()\n",
    "ax.set_title(\"NMI wrt num. iterations\")\n",
    "ax.set_xlabel(\"num. iterations\")\n",
    "ax.set_ylabel(\"NMI\")\n",
    "# ax.set_yticks(np.arange(0.5, 1.1, step=0.1))\n",
    "ax.set_ylim(0.5, 1)\n",
    "for i, ds_nmi in enumerate(ds_nmis):\n",
    "    ax.plot(num_iters, ds_nmi, label=DS_NAMES[i])\n",
    "ax.legend()"
   ]
  }
 ],
 "metadata": {
  "kernelspec": {
   "display_name": "Python 3",
   "language": "python",
   "name": "python3"
  },
  "language_info": {
   "codemirror_mode": {
    "name": "ipython",
    "version": 3
   },
   "file_extension": ".py",
   "mimetype": "text/x-python",
   "name": "python",
   "nbconvert_exporter": "python",
   "pygments_lexer": "ipython3",
   "version": "3.8.0"
  }
 },
 "nbformat": 4,
 "nbformat_minor": 4
}
