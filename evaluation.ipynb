{
 "cells": [
  {
   "cell_type": "code",
   "execution_count": 12,
   "metadata": {},
   "outputs": [
    {
     "name": "stdout",
     "output_type": "stream",
     "text": [
      "The nb_black extension is already loaded. To reload it, use:\n",
      "  %reload_ext nb_black\n",
      "The autoreload extension is already loaded. To reload it, use:\n",
      "  %reload_ext autoreload\n"
     ]
    },
    {
     "data": {
      "application/javascript": [
       "\n",
       "            setTimeout(function() {\n",
       "                var nbb_cell_id = 12;\n",
       "                var nbb_unformatted_code = \"%load_ext nb_black\\n%load_ext autoreload\\n%autoreload 2\";\n",
       "                var nbb_formatted_code = \"%load_ext nb_black\\n%load_ext autoreload\\n%autoreload 2\";\n",
       "                var nbb_cells = Jupyter.notebook.get_cells();\n",
       "                for (var i = 0; i < nbb_cells.length; ++i) {\n",
       "                    if (nbb_cells[i].input_prompt_number == nbb_cell_id) {\n",
       "                        if (nbb_cells[i].get_text() == nbb_unformatted_code) {\n",
       "                             nbb_cells[i].set_text(nbb_formatted_code);\n",
       "                        }\n",
       "                        break;\n",
       "                    }\n",
       "                }\n",
       "            }, 500);\n",
       "            "
      ],
      "text/plain": [
       "<IPython.core.display.Javascript object>"
      ]
     },
     "metadata": {},
     "output_type": "display_data"
    }
   ],
   "source": [
    "%load_ext nb_black\n",
    "%load_ext autoreload\n",
    "%autoreload 2"
   ]
  },
  {
   "cell_type": "code",
   "execution_count": 13,
   "metadata": {},
   "outputs": [
    {
     "data": {
      "application/javascript": [
       "\n",
       "            setTimeout(function() {\n",
       "                var nbb_cell_id = 13;\n",
       "                var nbb_unformatted_code = \"import json\\nimport os\\nimport math\\nimport matplotlib.pyplot as plt\\nimport numpy as np\\nfrom sklearn.metrics.cluster import normalized_mutual_info_score\\nfrom mstream.mstream import Mstream\\n\\nplt.style.use(\\\"ggplot\\\")\";\n",
       "                var nbb_formatted_code = \"import json\\nimport os\\nimport math\\nimport matplotlib.pyplot as plt\\nimport numpy as np\\nfrom sklearn.metrics.cluster import normalized_mutual_info_score\\nfrom mstream.mstream import Mstream\\n\\nplt.style.use(\\\"ggplot\\\")\";\n",
       "                var nbb_cells = Jupyter.notebook.get_cells();\n",
       "                for (var i = 0; i < nbb_cells.length; ++i) {\n",
       "                    if (nbb_cells[i].input_prompt_number == nbb_cell_id) {\n",
       "                        if (nbb_cells[i].get_text() == nbb_unformatted_code) {\n",
       "                             nbb_cells[i].set_text(nbb_formatted_code);\n",
       "                        }\n",
       "                        break;\n",
       "                    }\n",
       "                }\n",
       "            }, 500);\n",
       "            "
      ],
      "text/plain": [
       "<IPython.core.display.Javascript object>"
      ]
     },
     "metadata": {},
     "output_type": "display_data"
    }
   ],
   "source": [
    "import json\n",
    "import os\n",
    "import math\n",
    "import matplotlib.pyplot as plt\n",
    "import numpy as np\n",
    "from sklearn.metrics.cluster import normalized_mutual_info_score\n",
    "from mstream.mstream import Mstream\n",
    "\n",
    "plt.style.use(\"ggplot\")"
   ]
  },
  {
   "cell_type": "code",
   "execution_count": 14,
   "metadata": {},
   "outputs": [
    {
     "data": {
      "application/javascript": [
       "\n",
       "            setTimeout(function() {\n",
       "                var nbb_cell_id = 14;\n",
       "                var nbb_unformatted_code = \"DS_DIR = \\\"data\\\"\\nDS_NAMES = [\\\"News\\\", \\\"News-T\\\", \\\"Tweets\\\", \\\"Tweets-T\\\"]\\nDS_PATHS = [os.path.join(DS_DIR, ds_name) for ds_name in DS_NAMES]\";\n",
       "                var nbb_formatted_code = \"DS_DIR = \\\"data\\\"\\nDS_NAMES = [\\\"News\\\", \\\"News-T\\\", \\\"Tweets\\\", \\\"Tweets-T\\\"]\\nDS_PATHS = [os.path.join(DS_DIR, ds_name) for ds_name in DS_NAMES]\";\n",
       "                var nbb_cells = Jupyter.notebook.get_cells();\n",
       "                for (var i = 0; i < nbb_cells.length; ++i) {\n",
       "                    if (nbb_cells[i].input_prompt_number == nbb_cell_id) {\n",
       "                        if (nbb_cells[i].get_text() == nbb_unformatted_code) {\n",
       "                             nbb_cells[i].set_text(nbb_formatted_code);\n",
       "                        }\n",
       "                        break;\n",
       "                    }\n",
       "                }\n",
       "            }, 500);\n",
       "            "
      ],
      "text/plain": [
       "<IPython.core.display.Javascript object>"
      ]
     },
     "metadata": {},
     "output_type": "display_data"
    }
   ],
   "source": [
    "DS_DIR = \"data\"\n",
    "DS_NAMES = [\"News\", \"News-T\", \"Tweets\", \"Tweets-T\"]\n",
    "DS_PATHS = [os.path.join(DS_DIR, ds_name) for ds_name in DS_NAMES]"
   ]
  },
  {
   "cell_type": "code",
   "execution_count": 15,
   "metadata": {},
   "outputs": [
    {
     "data": {
      "application/javascript": [
       "\n",
       "            setTimeout(function() {\n",
       "                var nbb_cell_id = 15;\n",
       "                var nbb_unformatted_code = \"def load_batches(ds_path, batch_size=int(2 ** 8)):\\n    with open(ds_path) as f:\\n        docs = []\\n        for line in f:\\n            parsed_line = json.loads(line)\\n            docs.append(parsed_line)\\n            if len(docs) == batch_size:\\n                yield docs\\n                docs = []\\n        if len(docs) > 0:\\n            yield docs\";\n",
       "                var nbb_formatted_code = \"def load_batches(ds_path, batch_size=int(2 ** 8)):\\n    with open(ds_path) as f:\\n        docs = []\\n        for line in f:\\n            parsed_line = json.loads(line)\\n            docs.append(parsed_line)\\n            if len(docs) == batch_size:\\n                yield docs\\n                docs = []\\n        if len(docs) > 0:\\n            yield docs\";\n",
       "                var nbb_cells = Jupyter.notebook.get_cells();\n",
       "                for (var i = 0; i < nbb_cells.length; ++i) {\n",
       "                    if (nbb_cells[i].input_prompt_number == nbb_cell_id) {\n",
       "                        if (nbb_cells[i].get_text() == nbb_unformatted_code) {\n",
       "                             nbb_cells[i].set_text(nbb_formatted_code);\n",
       "                        }\n",
       "                        break;\n",
       "                    }\n",
       "                }\n",
       "            }, 500);\n",
       "            "
      ],
      "text/plain": [
       "<IPython.core.display.Javascript object>"
      ]
     },
     "metadata": {},
     "output_type": "display_data"
    }
   ],
   "source": [
    "def load_batches(ds_path, batch_size=int(2 ** 8)):\n",
    "    with open(ds_path) as f:\n",
    "        docs = []\n",
    "        for line in f:\n",
    "            parsed_line = json.loads(line)\n",
    "            docs.append(parsed_line)\n",
    "            if len(docs) == batch_size:\n",
    "                yield docs\n",
    "                docs = []\n",
    "        if len(docs) > 0:\n",
    "            yield docs"
   ]
  },
  {
   "cell_type": "code",
   "execution_count": 16,
   "metadata": {},
   "outputs": [
    {
     "data": {
      "application/javascript": [
       "\n",
       "            setTimeout(function() {\n",
       "                var nbb_cell_id = 16;\n",
       "                var nbb_unformatted_code = \"def transform(docs):\\n    return [{\\\"id\\\": doc[\\\"Id\\\"], \\\"word_list\\\": doc[\\\"textCleaned\\\"].split()} for doc in docs]\";\n",
       "                var nbb_formatted_code = \"def transform(docs):\\n    return [{\\\"id\\\": doc[\\\"Id\\\"], \\\"word_list\\\": doc[\\\"textCleaned\\\"].split()} for doc in docs]\";\n",
       "                var nbb_cells = Jupyter.notebook.get_cells();\n",
       "                for (var i = 0; i < nbb_cells.length; ++i) {\n",
       "                    if (nbb_cells[i].input_prompt_number == nbb_cell_id) {\n",
       "                        if (nbb_cells[i].get_text() == nbb_unformatted_code) {\n",
       "                             nbb_cells[i].set_text(nbb_formatted_code);\n",
       "                        }\n",
       "                        break;\n",
       "                    }\n",
       "                }\n",
       "            }, 500);\n",
       "            "
      ],
      "text/plain": [
       "<IPython.core.display.Javascript object>"
      ]
     },
     "metadata": {},
     "output_type": "display_data"
    }
   ],
   "source": [
    "def transform(docs):\n",
    "    return [{\"id\": doc[\"Id\"], \"word_list\": doc[\"textCleaned\"].split()} for doc in docs]"
   ]
  },
  {
   "cell_type": "code",
   "execution_count": 31,
   "metadata": {
    "scrolled": true
   },
   "outputs": [
    {
     "name": "stderr",
     "output_type": "stream",
     "text": [
      "/home/mionut/Documentos/py-mstream/mstream/clusterfeature.py:78: RuntimeWarning: divide by zero encountered in double_scalars\n",
      "  factor = 1.0 / np.sum(dist)\n",
      "/home/mionut/Documentos/py-mstream/mstream/clusterfeature.py:79: RuntimeWarning: invalid value encountered in multiply\n",
      "  return dist * factor\n"
     ]
    },
    {
     "data": {
      "application/javascript": [
       "\n",
       "            setTimeout(function() {\n",
       "                var nbb_cell_id = 31;\n",
       "                var nbb_unformatted_code = \"num_docs = sum([len(doc_batch) for doc_batch in load_batches(DS_PATHS[2])])\\nbatch_size = math.ceil(num_docs / 16)\\nbatch_size = 1\\nmstream = Mstream()\\nparsed_docs = next(load_batches(DS_PATHS[2], batch_size))\\ndocs = transform(parsed_docs)\\nres = mstream.process(docs)\";\n",
       "                var nbb_formatted_code = \"num_docs = sum([len(doc_batch) for doc_batch in load_batches(DS_PATHS[2])])\\nbatch_size = math.ceil(num_docs / 16)\\nbatch_size = 1\\nmstream = Mstream()\\nparsed_docs = next(load_batches(DS_PATHS[2], batch_size))\\ndocs = transform(parsed_docs)\\nres = mstream.process(docs)\";\n",
       "                var nbb_cells = Jupyter.notebook.get_cells();\n",
       "                for (var i = 0; i < nbb_cells.length; ++i) {\n",
       "                    if (nbb_cells[i].input_prompt_number == nbb_cell_id) {\n",
       "                        if (nbb_cells[i].get_text() == nbb_unformatted_code) {\n",
       "                             nbb_cells[i].set_text(nbb_formatted_code);\n",
       "                        }\n",
       "                        break;\n",
       "                    }\n",
       "                }\n",
       "            }, 500);\n",
       "            "
      ],
      "text/plain": [
       "<IPython.core.display.Javascript object>"
      ]
     },
     "metadata": {},
     "output_type": "display_data"
    }
   ],
   "source": [
    "num_docs = sum([len(doc_batch) for doc_batch in load_batches(DS_PATHS[2])])\n",
    "batch_size = math.ceil(num_docs / 16)\n",
    "batch_size = 1\n",
    "mstream = Mstream()\n",
    "parsed_docs = next(load_batches(DS_PATHS[2], batch_size))\n",
    "docs = transform(parsed_docs)\n",
    "res = mstream.process(docs)"
   ]
  },
  {
   "cell_type": "code",
   "execution_count": 8,
   "metadata": {},
   "outputs": [
    {
     "data": {
      "text/plain": [
       "{0: {3: 0.002333484367920254, 18: 0.002333484367920254},\n",
       " 1: {53: 0.0014459184389696064, 61: 0.0014459184389696064},\n",
       " 2: {113: 0.0021898120588485404, 114: 0.0021898120588485404},\n",
       " 3: {238: 0.001824203460673363, 241: 0.001824203460673363},\n",
       " 4: {219: 0.0019526436520123614, 220: 0.0019526436520123614},\n",
       " 5: {224: 0.0033354922279792737, 229: 0.0033354922279792737},\n",
       " 6: {346: 0.0009308714945458163, 350: 0.0009308714945458163},\n",
       " 7: {387: 0.002906730633554394, 388: 0.002906730633554394},\n",
       " 8: {419: 0.004440995127840294, 422: 0.004440995127840294},\n",
       " 9: {712: 0.0043430595378647335, 996: 0.0043430595378647335},\n",
       " 10: {547: 0.0031328892538856974, 548: 0.0031328892538856974},\n",
       " 11: {563: 0.004712449100974517, 565: 0.004712449100974517},\n",
       " 12: {716: 0.00606417427141595, 657: 0.00606417427141595},\n",
       " 13: {246: 0.005957889865802871, 1016: 0.005957889865802871},\n",
       " 14: {803: 0.0028045526330120365, 538: 0.0028045526330120365},\n",
       " 15: {976: 0.006536362482548544, 977: 0.006536362482548544},\n",
       " 16: {403: 0.00943050723310749, 404: 0.00943050723310749},\n",
       " 17: {1312: 0.008305781791790987, 407: 0.008305781791790987},\n",
       " 18: {988: 0.006245831059365707, 990: 0.006245831059365707},\n",
       " 19: {465: 0.00920300214438885, 224: 0.00920300214438885},\n",
       " 20: {1112: 0.0035267933573018342, 1507: 0.0035267933573018342},\n",
       " 21: {1640: 0.005548373195432022, 710: 0.005548373195432022},\n",
       " 22: {1745: 0.022528433945756782, 1752: 0.022528433945756782},\n",
       " 23: {3119: 0.00445617374751233, 3120: 0.00445617374751233},\n",
       " 24: {1470: 0.008383525964512454, 808: 0.008383525964512454},\n",
       " 25: {1692: 0.011074078056122994, 218: 0.011074078056122994},\n",
       " 26: {1488: 0.007163224146324507, 157: 0.007163224146324507},\n",
       " 27: {1497: 0.004107185580987323, 462: 0.004107185580987323},\n",
       " 29: {127: 0.012013062747842319, 2857: 0.012013062747842319},\n",
       " 31: {3357: 0.026601239669421482, 3358: 0.026601239669421482},\n",
       " 32: {1604: 0.015976423142546922, 1701: 0.015976423142546922},\n",
       " 33: {45: 0.016503765422207974, 2627: 0.016503765422207974},\n",
       " 34: {1783: 0.007391990813836657, 1371: 0.007391990813836657},\n",
       " 37: {1876: 0.0030631970260223077, 9: 0.0030631970260223077},\n",
       " 38: {1927: 0.0008534756345135607, 1931: 0.0008534756345135607},\n",
       " 40: {1601: 0.0032041311516207336, 2068: 0.0032041311516207336},\n",
       " 41: {2106: 0.040376323010584095, 79: 0.040376323010584095},\n",
       " 42: {2126: 0.0072346702254688445, 1083: 0.0072346702254688445},\n",
       " 43: {722: 0.002547991292301604, 29: 0.002547991292301604},\n",
       " 44: {2246: 0.0010794722114507891, 230: 0.0010794722114507891},\n",
       " 45: {1211: 0.014820143884892077, 1212: 0.014820143884892077},\n",
       " 47: {71: 0.00789151087955868, 72: 0.00789151087955868},\n",
       " 48: {1905: 0.010193982581155985, 1901: 0.010193982581155985},\n",
       " 50: {1083: 0.001786302700265345, 443: 0.001786302700265345},\n",
       " 53: {2672: 0.024009324009324005, 2673: 0.024009324009324005},\n",
       " 54: {2650: 0.021516607478587847, 2659: 0.021516607478587847},\n",
       " 55: {2754: 0.004646127475303347, 2755: 0.004646127475303347},\n",
       " 57: {2896: 0.0162358133669609, 2883: 0.0162358133669609},\n",
       " 58: {527: 0.01865942028985507, 2933: 0.01865942028985507},\n",
       " 59: {2960: 0.02649858502701312, 2961: 0.02649858502701312},\n",
       " 62: {3132: 0.005934889080956494, 1620: 0.005934889080956494},\n",
       " 65: {1250: 0.008804923918618566, 2636: 0.008804923918618566},\n",
       " 67: {2856: 0.013647807075659206, 224: 0.013647807075659206},\n",
       " 72: {3259: 0.0071152252003315805, 3407: 0.0071152252003315805},\n",
       " 74: {46: 0.004804328560100751, 2687: 0.004804328560100751},\n",
       " 75: {435: 0.016066136328185928, 79: 0.016066136328185928},\n",
       " 77: {1635: 0.021462804750989783, 396: 0.021462804750989783},\n",
       " 78: {993: 0.04042386185243328, 98: 0.04042386185243328},\n",
       " 82: {3897: 0.05303810504634398, 465: 0.05303810504634398},\n",
       " 88: {641: 0.005751298229940256, 642: 0.005751298229940256},\n",
       " 91: {995: 0.03247162673392183, 996: 0.03247162673392183},\n",
       " 92: {1011: 0.006692222727568055, 1012: 0.006692222727568055},\n",
       " 104: {2159: 0.05943450663589151, 2160: 0.05943450663589151},\n",
       " 87: {2597: 0.009427917620137304, 2185: 0.009427917620137304},\n",
       " 39: {83: 0.013244181561013244, 3469: 0.013244181561013244},\n",
       " 76: {3670: 0.021037581699346407, 3671: 0.021037581699346407},\n",
       " 84: {148: 0.02458233890214797, 149: 0.02458233890214797},\n",
       " 95: {1903: 0.020628880432605644, 1351: 0.020628880432605644},\n",
       " 66: {503: 0.010854673832859095, 1529: 0.010854673832859095},\n",
       " 73: {1074: 0.022863485016648172, 532: 0.022863485016648172},\n",
       " 108: {1943: 0.031450381679389315, 1944: 0.031450381679389315},\n",
       " 56: {2074: 0.02011718749999999, 2629: 0.02011718749999999},\n",
       " 96: {1722: 0.05279343926191695, 1723: 0.05279343926191695},\n",
       " 103: {589: 0.04023437500000001, 3452: 0.04023437500000001},\n",
       " 115: {80: 0.11111111111111112, 101: 0.11111111111111112},\n",
       " 71: {146: 0.5, 147: 0.5},\n",
       " 79: {278: 0.25, 279: 0.25},\n",
       " 112: {839: 0.14285714285714285, 840: 0.14285714285714285},\n",
       " 90: {894: 0.14285714285714285, 895: 0.14285714285714285},\n",
       " 51: {943: 0.10029211295034078, 944: 0.10029211295034078},\n",
       " 52: {966: 0.14285714285714285, 967: 0.14285714285714285},\n",
       " 105: {135: 0.09090909090909088, 930: 0.09090909090909088},\n",
       " 30: {1070: 0.125, 485: 0.125},\n",
       " 81: {1294: 0.11111111111111112, 1295: 0.11111111111111112},\n",
       " 49: {22: 0.08333333333333333, 1347: 0.08333333333333333},\n",
       " 46: {54: 0.07157748436414177, 1393: 0.07157748436414177},\n",
       " 106: {1716: 0.3333333333333333, 1717: 0.3333333333333333},\n",
       " 68: {1807: 0.07142857142857144, 1091: 0.07142857142857144},\n",
       " 80: {1868: 1.0},\n",
       " 69: {1971: 0.14285714285714285, 1111: 0.14285714285714285},\n",
       " 117: {747: 0.0769230769230769, 1140: 0.0769230769230769},\n",
       " 118: {1169: 0.09999999999999998, 499: 0.09999999999999998},\n",
       " 89: {2349: 0.14285714285714285, 224: 0.14285714285714285},\n",
       " 86: {1975: 0.09999999999999998, 635: 0.09999999999999998},\n",
       " 36: {666: 0.09999999999999998, 2464: 0.09999999999999998},\n",
       " 102: {2551: 0.125, 2552: 0.125},\n",
       " 110: {204: 0.16666666666666669, 2591: 0.16666666666666669},\n",
       " 28: {1489: 0.125, 1756: 0.125},\n",
       " 60: {2714: 0.125, 331: 0.125},\n",
       " 107: {396: 0.16666666666666669, 2845: 0.16666666666666669},\n",
       " 94: {2963: 0.08353609083536091, 2964: 0.08353609083536091},\n",
       " 113: {3010: 0.0911504424778761, 3011: 0.0911504424778761},\n",
       " 93: {1163: 0.3333333333333333, 3020: 0.3333333333333333},\n",
       " 98: {3201: 0.16666666666666669, 2199: 0.16666666666666669},\n",
       " 100: {1936: 0.125, 1602: 0.125},\n",
       " 64: {3266: 0.25, 3267: 0.25},\n",
       " 99: {3289: 1.0},\n",
       " 111: {2614: 0.12545676004872108, 1990: 0.12545676004872108},\n",
       " 63: {3617: 0.11111111111111112, 3618: 0.11111111111111112},\n",
       " 116: {3691: 0.08353609083536091, 2417: 0.08353609083536091},\n",
       " 70: {3258: 0.09090909090909088, 3694: 0.09090909090909088},\n",
       " 97: {3815: 0.14285714285714285, 2174: 0.14285714285714285},\n",
       " 61: {3314: 0.125, 3867: 0.125},\n",
       " 85: {3886: 0.14285714285714285, 631: 0.14285714285714285}}"
      ]
     },
     "execution_count": 8,
     "metadata": {},
     "output_type": "execute_result"
    },
    {
     "data": {
      "application/javascript": [
       "\n",
       "            setTimeout(function() {\n",
       "                var nbb_cell_id = 8;\n",
       "                var nbb_unformatted_code = \"mstream.get_top_words(num_words_topic=2)\";\n",
       "                var nbb_formatted_code = \"mstream.get_top_words(num_words_topic=2)\";\n",
       "                var nbb_cells = Jupyter.notebook.get_cells();\n",
       "                for (var i = 0; i < nbb_cells.length; ++i) {\n",
       "                    if (nbb_cells[i].input_prompt_number == nbb_cell_id) {\n",
       "                        if (nbb_cells[i].get_text() == nbb_unformatted_code) {\n",
       "                             nbb_cells[i].set_text(nbb_formatted_code);\n",
       "                        }\n",
       "                        break;\n",
       "                    }\n",
       "                }\n",
       "            }, 500);\n",
       "            "
      ],
      "text/plain": [
       "<IPython.core.display.Javascript object>"
      ]
     },
     "metadata": {},
     "output_type": "display_data"
    }
   ],
   "source": [
    "mstream.get_top_words(num_words_topic=2)"
   ]
  },
  {
   "cell_type": "markdown",
   "metadata": {},
   "source": [
    "Caculate the NMI for each batch"
   ]
  },
  {
   "cell_type": "code",
   "execution_count": 67,
   "metadata": {},
   "outputs": [
    {
     "data": {
      "application/javascript": [
       "\n",
       "            setTimeout(function() {\n",
       "                var nbb_cell_id = 67;\n",
       "                var nbb_unformatted_code = \"num_batches = 16\\nnum_total_docs = sum([len(doc_batch) for doc_batch in load_batches(DS_PATHS[2])])\\nbatch_size = math.ceil(num_total_docs / num_batches)\\nmstream = Mstream()\\nnmis = []\\nfor parsed_docs in load_batches(DS_PATHS[2], batch_size):\\n    docs = transform(parsed_docs)\\n    nmi = normalized_mutual_info_score(\\n        [doc[\\\"clusterNo\\\"] for doc in parsed_docs], mstream.process(docs)\\n    )\\n    nmis.append(nmi)\";\n",
       "                var nbb_formatted_code = \"num_batches = 16\\nnum_total_docs = sum([len(doc_batch) for doc_batch in load_batches(DS_PATHS[2])])\\nbatch_size = math.ceil(num_total_docs / num_batches)\\nmstream = Mstream()\\nnmis = []\\nfor parsed_docs in load_batches(DS_PATHS[2], batch_size):\\n    docs = transform(parsed_docs)\\n    nmi = normalized_mutual_info_score(\\n        [doc[\\\"clusterNo\\\"] for doc in parsed_docs], mstream.process(docs)\\n    )\\n    nmis.append(nmi)\";\n",
       "                var nbb_cells = Jupyter.notebook.get_cells();\n",
       "                for (var i = 0; i < nbb_cells.length; ++i) {\n",
       "                    if (nbb_cells[i].input_prompt_number == nbb_cell_id) {\n",
       "                        if (nbb_cells[i].get_text() == nbb_unformatted_code) {\n",
       "                             nbb_cells[i].set_text(nbb_formatted_code);\n",
       "                        }\n",
       "                        break;\n",
       "                    }\n",
       "                }\n",
       "            }, 500);\n",
       "            "
      ],
      "text/plain": [
       "<IPython.core.display.Javascript object>"
      ]
     },
     "metadata": {},
     "output_type": "display_data"
    }
   ],
   "source": [
    "num_batches = 16\n",
    "num_total_docs = sum([len(doc_batch) for doc_batch in load_batches(DS_PATHS[2])])\n",
    "batch_size = math.ceil(num_total_docs / num_batches)\n",
    "mstream = Mstream()\n",
    "nmis = []\n",
    "for parsed_docs in load_batches(DS_PATHS[2], batch_size):\n",
    "    docs = transform(parsed_docs)\n",
    "    nmi = normalized_mutual_info_score(\n",
    "        [doc[\"clusterNo\"] for doc in parsed_docs], mstream.process(docs)\n",
    "    )\n",
    "    nmis.append(nmi)"
   ]
  },
  {
   "cell_type": "code",
   "execution_count": 72,
   "metadata": {
    "scrolled": true
   },
   "outputs": [
    {
     "ename": "ValueError",
     "evalue": "x and y must have same first dimension, but have shapes (16,) and (10,)",
     "output_type": "error",
     "traceback": [
      "\u001b[0;31m---------------------------------------------------------------------------\u001b[0m",
      "\u001b[0;31mValueError\u001b[0m                                Traceback (most recent call last)",
      "\u001b[0;32m<ipython-input-72-b49bced64efe>\u001b[0m in \u001b[0;36m<module>\u001b[0;34m\u001b[0m\n\u001b[0;32m----> 1\u001b[0;31m \u001b[0mplt\u001b[0m\u001b[0;34m.\u001b[0m\u001b[0mplot\u001b[0m\u001b[0;34m(\u001b[0m\u001b[0mrange\u001b[0m\u001b[0;34m(\u001b[0m\u001b[0;36m1\u001b[0m\u001b[0;34m,\u001b[0m \u001b[0mnum_batches\u001b[0m \u001b[0;34m+\u001b[0m \u001b[0;36m1\u001b[0m\u001b[0;34m)\u001b[0m\u001b[0;34m,\u001b[0m \u001b[0mnmis\u001b[0m\u001b[0;34m)\u001b[0m\u001b[0;34m\u001b[0m\u001b[0;34m\u001b[0m\u001b[0m\n\u001b[0m\u001b[1;32m      2\u001b[0m \u001b[0mplt\u001b[0m\u001b[0;34m.\u001b[0m\u001b[0mylabel\u001b[0m\u001b[0;34m(\u001b[0m\u001b[0;34m\"NMI\"\u001b[0m\u001b[0;34m)\u001b[0m\u001b[0;34m\u001b[0m\u001b[0;34m\u001b[0m\u001b[0m\n\u001b[1;32m      3\u001b[0m \u001b[0mplt\u001b[0m\u001b[0;34m.\u001b[0m\u001b[0mxlabel\u001b[0m\u001b[0;34m(\u001b[0m\u001b[0;34m\"Batch number\"\u001b[0m\u001b[0;34m)\u001b[0m\u001b[0;34m\u001b[0m\u001b[0;34m\u001b[0m\u001b[0m\n\u001b[1;32m      4\u001b[0m \u001b[0mplt\u001b[0m\u001b[0;34m.\u001b[0m\u001b[0mtitle\u001b[0m\u001b[0;34m(\u001b[0m\u001b[0;34m\"NMI for each batch\"\u001b[0m\u001b[0;34m)\u001b[0m\u001b[0;34m\u001b[0m\u001b[0;34m\u001b[0m\u001b[0m\n\u001b[1;32m      5\u001b[0m \u001b[0mplt\u001b[0m\u001b[0;34m.\u001b[0m\u001b[0mshow\u001b[0m\u001b[0;34m(\u001b[0m\u001b[0;34m)\u001b[0m\u001b[0;34m\u001b[0m\u001b[0;34m\u001b[0m\u001b[0m\n",
      "\u001b[0;32m~/Documentos/py-mstream/env/lib/python3.8/site-packages/matplotlib/pyplot.py\u001b[0m in \u001b[0;36mplot\u001b[0;34m(scalex, scaley, data, *args, **kwargs)\u001b[0m\n\u001b[1;32m   2759\u001b[0m \u001b[0;34m@\u001b[0m\u001b[0mdocstring\u001b[0m\u001b[0;34m.\u001b[0m\u001b[0mcopy\u001b[0m\u001b[0;34m(\u001b[0m\u001b[0mAxes\u001b[0m\u001b[0;34m.\u001b[0m\u001b[0mplot\u001b[0m\u001b[0;34m)\u001b[0m\u001b[0;34m\u001b[0m\u001b[0;34m\u001b[0m\u001b[0m\n\u001b[1;32m   2760\u001b[0m \u001b[0;32mdef\u001b[0m \u001b[0mplot\u001b[0m\u001b[0;34m(\u001b[0m\u001b[0;34m*\u001b[0m\u001b[0margs\u001b[0m\u001b[0;34m,\u001b[0m \u001b[0mscalex\u001b[0m\u001b[0;34m=\u001b[0m\u001b[0;32mTrue\u001b[0m\u001b[0;34m,\u001b[0m \u001b[0mscaley\u001b[0m\u001b[0;34m=\u001b[0m\u001b[0;32mTrue\u001b[0m\u001b[0;34m,\u001b[0m \u001b[0mdata\u001b[0m\u001b[0;34m=\u001b[0m\u001b[0;32mNone\u001b[0m\u001b[0;34m,\u001b[0m \u001b[0;34m**\u001b[0m\u001b[0mkwargs\u001b[0m\u001b[0;34m)\u001b[0m\u001b[0;34m:\u001b[0m\u001b[0;34m\u001b[0m\u001b[0;34m\u001b[0m\u001b[0m\n\u001b[0;32m-> 2761\u001b[0;31m     return gca().plot(\n\u001b[0m\u001b[1;32m   2762\u001b[0m         *args, scalex=scalex, scaley=scaley, **({\"data\": data} if data\n\u001b[1;32m   2763\u001b[0m         is not None else {}), **kwargs)\n",
      "\u001b[0;32m~/Documentos/py-mstream/env/lib/python3.8/site-packages/matplotlib/axes/_axes.py\u001b[0m in \u001b[0;36mplot\u001b[0;34m(self, scalex, scaley, data, *args, **kwargs)\u001b[0m\n\u001b[1;32m   1644\u001b[0m         \"\"\"\n\u001b[1;32m   1645\u001b[0m         \u001b[0mkwargs\u001b[0m \u001b[0;34m=\u001b[0m \u001b[0mcbook\u001b[0m\u001b[0;34m.\u001b[0m\u001b[0mnormalize_kwargs\u001b[0m\u001b[0;34m(\u001b[0m\u001b[0mkwargs\u001b[0m\u001b[0;34m,\u001b[0m \u001b[0mmlines\u001b[0m\u001b[0;34m.\u001b[0m\u001b[0mLine2D\u001b[0m\u001b[0;34m)\u001b[0m\u001b[0;34m\u001b[0m\u001b[0;34m\u001b[0m\u001b[0m\n\u001b[0;32m-> 1646\u001b[0;31m         \u001b[0mlines\u001b[0m \u001b[0;34m=\u001b[0m \u001b[0;34m[\u001b[0m\u001b[0;34m*\u001b[0m\u001b[0mself\u001b[0m\u001b[0;34m.\u001b[0m\u001b[0m_get_lines\u001b[0m\u001b[0;34m(\u001b[0m\u001b[0;34m*\u001b[0m\u001b[0margs\u001b[0m\u001b[0;34m,\u001b[0m \u001b[0mdata\u001b[0m\u001b[0;34m=\u001b[0m\u001b[0mdata\u001b[0m\u001b[0;34m,\u001b[0m \u001b[0;34m**\u001b[0m\u001b[0mkwargs\u001b[0m\u001b[0;34m)\u001b[0m\u001b[0;34m]\u001b[0m\u001b[0;34m\u001b[0m\u001b[0;34m\u001b[0m\u001b[0m\n\u001b[0m\u001b[1;32m   1647\u001b[0m         \u001b[0;32mfor\u001b[0m \u001b[0mline\u001b[0m \u001b[0;32min\u001b[0m \u001b[0mlines\u001b[0m\u001b[0;34m:\u001b[0m\u001b[0;34m\u001b[0m\u001b[0;34m\u001b[0m\u001b[0m\n\u001b[1;32m   1648\u001b[0m             \u001b[0mself\u001b[0m\u001b[0;34m.\u001b[0m\u001b[0madd_line\u001b[0m\u001b[0;34m(\u001b[0m\u001b[0mline\u001b[0m\u001b[0;34m)\u001b[0m\u001b[0;34m\u001b[0m\u001b[0;34m\u001b[0m\u001b[0m\n",
      "\u001b[0;32m~/Documentos/py-mstream/env/lib/python3.8/site-packages/matplotlib/axes/_base.py\u001b[0m in \u001b[0;36m__call__\u001b[0;34m(self, *args, **kwargs)\u001b[0m\n\u001b[1;32m    214\u001b[0m                 \u001b[0mthis\u001b[0m \u001b[0;34m+=\u001b[0m \u001b[0margs\u001b[0m\u001b[0;34m[\u001b[0m\u001b[0;36m0\u001b[0m\u001b[0;34m]\u001b[0m\u001b[0;34m,\u001b[0m\u001b[0;34m\u001b[0m\u001b[0;34m\u001b[0m\u001b[0m\n\u001b[1;32m    215\u001b[0m                 \u001b[0margs\u001b[0m \u001b[0;34m=\u001b[0m \u001b[0margs\u001b[0m\u001b[0;34m[\u001b[0m\u001b[0;36m1\u001b[0m\u001b[0;34m:\u001b[0m\u001b[0;34m]\u001b[0m\u001b[0;34m\u001b[0m\u001b[0;34m\u001b[0m\u001b[0m\n\u001b[0;32m--> 216\u001b[0;31m             \u001b[0;32myield\u001b[0m \u001b[0;32mfrom\u001b[0m \u001b[0mself\u001b[0m\u001b[0;34m.\u001b[0m\u001b[0m_plot_args\u001b[0m\u001b[0;34m(\u001b[0m\u001b[0mthis\u001b[0m\u001b[0;34m,\u001b[0m \u001b[0mkwargs\u001b[0m\u001b[0;34m)\u001b[0m\u001b[0;34m\u001b[0m\u001b[0;34m\u001b[0m\u001b[0m\n\u001b[0m\u001b[1;32m    217\u001b[0m \u001b[0;34m\u001b[0m\u001b[0m\n\u001b[1;32m    218\u001b[0m     \u001b[0;32mdef\u001b[0m \u001b[0mget_next_color\u001b[0m\u001b[0;34m(\u001b[0m\u001b[0mself\u001b[0m\u001b[0;34m)\u001b[0m\u001b[0;34m:\u001b[0m\u001b[0;34m\u001b[0m\u001b[0;34m\u001b[0m\u001b[0m\n",
      "\u001b[0;32m~/Documentos/py-mstream/env/lib/python3.8/site-packages/matplotlib/axes/_base.py\u001b[0m in \u001b[0;36m_plot_args\u001b[0;34m(self, tup, kwargs)\u001b[0m\n\u001b[1;32m    340\u001b[0m \u001b[0;34m\u001b[0m\u001b[0m\n\u001b[1;32m    341\u001b[0m         \u001b[0;32mif\u001b[0m \u001b[0mx\u001b[0m\u001b[0;34m.\u001b[0m\u001b[0mshape\u001b[0m\u001b[0;34m[\u001b[0m\u001b[0;36m0\u001b[0m\u001b[0;34m]\u001b[0m \u001b[0;34m!=\u001b[0m \u001b[0my\u001b[0m\u001b[0;34m.\u001b[0m\u001b[0mshape\u001b[0m\u001b[0;34m[\u001b[0m\u001b[0;36m0\u001b[0m\u001b[0;34m]\u001b[0m\u001b[0;34m:\u001b[0m\u001b[0;34m\u001b[0m\u001b[0;34m\u001b[0m\u001b[0m\n\u001b[0;32m--> 342\u001b[0;31m             raise ValueError(f\"x and y must have same first dimension, but \"\n\u001b[0m\u001b[1;32m    343\u001b[0m                              f\"have shapes {x.shape} and {y.shape}\")\n\u001b[1;32m    344\u001b[0m         \u001b[0;32mif\u001b[0m \u001b[0mx\u001b[0m\u001b[0;34m.\u001b[0m\u001b[0mndim\u001b[0m \u001b[0;34m>\u001b[0m \u001b[0;36m2\u001b[0m \u001b[0;32mor\u001b[0m \u001b[0my\u001b[0m\u001b[0;34m.\u001b[0m\u001b[0mndim\u001b[0m \u001b[0;34m>\u001b[0m \u001b[0;36m2\u001b[0m\u001b[0;34m:\u001b[0m\u001b[0;34m\u001b[0m\u001b[0;34m\u001b[0m\u001b[0m\n",
      "\u001b[0;31mValueError\u001b[0m: x and y must have same first dimension, but have shapes (16,) and (10,)"
     ]
    },
    {
     "data": {
      "image/png": "[encoded data removed]",
      "text/plain": [
       "<Figure size 432x288 with 1 Axes>"
      ]
     },
     "metadata": {
      "needs_background": "light"
     },
     "output_type": "display_data"
    },
    {
     "data": {
      "application/javascript": [
       "\n",
       "            setTimeout(function() {\n",
       "                var nbb_cell_id = 72;\n",
       "                var nbb_unformatted_code = \"plt.plot(range(1, num_batches + 1), nmis)\\nplt.ylabel(\\\"NMI\\\")\\nplt.xlabel(\\\"Batch number\\\")\\nplt.title(\\\"NMI for each batch\\\")\\nplt.show()\";\n",
       "                var nbb_formatted_code = \"plt.plot(range(1, num_batches + 1), nmis)\\nplt.ylabel(\\\"NMI\\\")\\nplt.xlabel(\\\"Batch number\\\")\\nplt.title(\\\"NMI for each batch\\\")\\nplt.show()\";\n",
       "                var nbb_cells = Jupyter.notebook.get_cells();\n",
       "                for (var i = 0; i < nbb_cells.length; ++i) {\n",
       "                    if (nbb_cells[i].input_prompt_number == nbb_cell_id) {\n",
       "                        if (nbb_cells[i].get_text() == nbb_unformatted_code) {\n",
       "                             nbb_cells[i].set_text(nbb_formatted_code);\n",
       "                        }\n",
       "                        break;\n",
       "                    }\n",
       "                }\n",
       "            }, 500);\n",
       "            "
      ],
      "text/plain": [
       "<IPython.core.display.Javascript object>"
      ]
     },
     "metadata": {},
     "output_type": "display_data"
    }
   ],
   "source": [
    "plt.plot(range(1, num_batches + 1), nmis)\n",
    "plt.ylabel(\"NMI\")\n",
    "plt.xlabel(\"Batch number\")\n",
    "plt.title(\"NMI for each batch\")\n",
    "plt.show()"
   ]
  },
  {
   "cell_type": "markdown",
   "metadata": {},
   "source": [
    "Calculate the NMI as a function of the number of iterations"
   ]
  },
  {
   "cell_type": "code",
   "execution_count": 11,
   "metadata": {},
   "outputs": [
    {
     "ename": "KeyboardInterrupt",
     "evalue": "",
     "output_type": "error",
     "traceback": [
      "\u001b[0;31m---------------------------------------------------------------------------\u001b[0m",
      "\u001b[0;31mKeyboardInterrupt\u001b[0m                         Traceback (most recent call last)",
      "\u001b[0;32m<ipython-input-11-033851662209>\u001b[0m in \u001b[0;36m<module>\u001b[0;34m\u001b[0m\n\u001b[1;32m     14\u001b[0m         \u001b[0;32mfor\u001b[0m \u001b[0mparsed_docs\u001b[0m \u001b[0;32min\u001b[0m \u001b[0mload_batches\u001b[0m\u001b[0;34m(\u001b[0m\u001b[0mds_path\u001b[0m\u001b[0;34m,\u001b[0m \u001b[0mbatch_size\u001b[0m\u001b[0;34m)\u001b[0m\u001b[0;34m:\u001b[0m\u001b[0;34m\u001b[0m\u001b[0;34m\u001b[0m\u001b[0m\n\u001b[1;32m     15\u001b[0m             \u001b[0my\u001b[0m \u001b[0;34m+=\u001b[0m \u001b[0;34m[\u001b[0m\u001b[0mdoc\u001b[0m\u001b[0;34m[\u001b[0m\u001b[0;34m\"clusterNo\"\u001b[0m\u001b[0;34m]\u001b[0m \u001b[0;32mfor\u001b[0m \u001b[0mdoc\u001b[0m \u001b[0;32min\u001b[0m \u001b[0mparsed_docs\u001b[0m\u001b[0;34m]\u001b[0m\u001b[0;34m\u001b[0m\u001b[0;34m\u001b[0m\u001b[0m\n\u001b[0;32m---> 16\u001b[0;31m             \u001b[0my_hat\u001b[0m \u001b[0;34m+=\u001b[0m \u001b[0mmstream\u001b[0m\u001b[0;34m.\u001b[0m\u001b[0mprocess\u001b[0m\u001b[0;34m(\u001b[0m\u001b[0mtransform\u001b[0m\u001b[0;34m(\u001b[0m\u001b[0mparsed_docs\u001b[0m\u001b[0;34m)\u001b[0m\u001b[0;34m)\u001b[0m\u001b[0;34m\u001b[0m\u001b[0;34m\u001b[0m\u001b[0m\n\u001b[0m\u001b[1;32m     17\u001b[0m         \u001b[0mnmi\u001b[0m \u001b[0;34m=\u001b[0m \u001b[0mnormalized_mutual_info_score\u001b[0m\u001b[0;34m(\u001b[0m\u001b[0my\u001b[0m\u001b[0;34m,\u001b[0m \u001b[0my_hat\u001b[0m\u001b[0;34m)\u001b[0m\u001b[0;34m\u001b[0m\u001b[0;34m\u001b[0m\u001b[0m\n\u001b[1;32m     18\u001b[0m         \u001b[0mnmis\u001b[0m\u001b[0;34m.\u001b[0m\u001b[0mappend\u001b[0m\u001b[0;34m(\u001b[0m\u001b[0mnmi\u001b[0m\u001b[0;34m)\u001b[0m\u001b[0;34m\u001b[0m\u001b[0;34m\u001b[0m\u001b[0m\n",
      "\u001b[0;32m~/Documentos/py-mstream/mstream/mstream.py\u001b[0m in \u001b[0;36mprocess\u001b[0;34m(self, batch)\u001b[0m\n\u001b[1;32m     23\u001b[0m             \u001b[0mdoc_batch\u001b[0m\u001b[0;34m.\u001b[0m\u001b[0mappend\u001b[0m\u001b[0;34m(\u001b[0m\u001b[0mDocument\u001b[0m\u001b[0;34m(\u001b[0m\u001b[0mdoc\u001b[0m\u001b[0;34m[\u001b[0m\u001b[0;34m\"id\"\u001b[0m\u001b[0;34m]\u001b[0m\u001b[0;34m,\u001b[0m \u001b[0mdoc\u001b[0m\u001b[0;34m[\u001b[0m\u001b[0;34m\"word_list\"\u001b[0m\u001b[0;34m]\u001b[0m\u001b[0;34m,\u001b[0m \u001b[0mself\u001b[0m\u001b[0;34m.\u001b[0m\u001b[0mvocabulary\u001b[0m\u001b[0;34m)\u001b[0m\u001b[0;34m)\u001b[0m\u001b[0;34m\u001b[0m\u001b[0;34m\u001b[0m\u001b[0m\n\u001b[1;32m     24\u001b[0m         \u001b[0mself\u001b[0m\u001b[0;34m.\u001b[0m\u001b[0m__first_pass\u001b[0m\u001b[0;34m(\u001b[0m\u001b[0mdoc_batch\u001b[0m\u001b[0;34m)\u001b[0m\u001b[0;34m\u001b[0m\u001b[0;34m\u001b[0m\u001b[0m\n\u001b[0;32m---> 25\u001b[0;31m         \u001b[0mself\u001b[0m\u001b[0;34m.\u001b[0m\u001b[0m__gibbs_sample\u001b[0m\u001b[0;34m(\u001b[0m\u001b[0mdoc_batch\u001b[0m\u001b[0;34m)\u001b[0m\u001b[0;34m\u001b[0m\u001b[0;34m\u001b[0m\u001b[0m\n\u001b[0m\u001b[1;32m     26\u001b[0m         \u001b[0mself\u001b[0m\u001b[0;34m.\u001b[0m\u001b[0m__pick_max_prob\u001b[0m\u001b[0;34m(\u001b[0m\u001b[0mdoc_batch\u001b[0m\u001b[0;34m)\u001b[0m\u001b[0;34m\u001b[0m\u001b[0;34m\u001b[0m\u001b[0m\n\u001b[1;32m     27\u001b[0m         \u001b[0;32mreturn\u001b[0m \u001b[0;34m[\u001b[0m\u001b[0mdoc\u001b[0m\u001b[0;34m.\u001b[0m\u001b[0mcluster_id\u001b[0m \u001b[0;32mfor\u001b[0m \u001b[0mdoc\u001b[0m \u001b[0;32min\u001b[0m \u001b[0mdoc_batch\u001b[0m\u001b[0;34m]\u001b[0m\u001b[0;34m\u001b[0m\u001b[0;34m\u001b[0m\u001b[0m\n",
      "\u001b[0;32m~/Documentos/py-mstream/mstream/mstream.py\u001b[0m in \u001b[0;36m__gibbs_sample\u001b[0;34m(self, docs)\u001b[0m\n\u001b[1;32m     66\u001b[0m         \u001b[0;32mfor\u001b[0m \u001b[0mdoc\u001b[0m \u001b[0;32min\u001b[0m \u001b[0mdocs\u001b[0m\u001b[0;34m:\u001b[0m\u001b[0;34m\u001b[0m\u001b[0;34m\u001b[0m\u001b[0m\n\u001b[1;32m     67\u001b[0m             \u001b[0mdoc\u001b[0m\u001b[0;34m.\u001b[0m\u001b[0mcluster_id\u001b[0m \u001b[0;34m=\u001b[0m \u001b[0mself\u001b[0m\u001b[0;34m.\u001b[0m\u001b[0m__clusters\u001b[0m\u001b[0;34m.\u001b[0m\u001b[0msample_and_add\u001b[0m\u001b[0;34m(\u001b[0m\u001b[0mdoc\u001b[0m\u001b[0;34m)\u001b[0m\u001b[0;34m\u001b[0m\u001b[0;34m\u001b[0m\u001b[0m\n\u001b[0;32m---> 68\u001b[0;31m \u001b[0;34m\u001b[0m\u001b[0m\n\u001b[0m\u001b[1;32m     69\u001b[0m     \u001b[0;32mdef\u001b[0m \u001b[0m__gibbs_sample\u001b[0m\u001b[0;34m(\u001b[0m\u001b[0mself\u001b[0m\u001b[0;34m,\u001b[0m \u001b[0mdocs\u001b[0m\u001b[0;34m)\u001b[0m\u001b[0;34m:\u001b[0m\u001b[0;34m\u001b[0m\u001b[0;34m\u001b[0m\u001b[0m\n\u001b[1;32m     70\u001b[0m         \u001b[0;32mfor\u001b[0m \u001b[0mi\u001b[0m \u001b[0;32min\u001b[0m \u001b[0mrange\u001b[0m\u001b[0;34m(\u001b[0m\u001b[0mself\u001b[0m\u001b[0;34m.\u001b[0m\u001b[0m__num_iter\u001b[0m \u001b[0;34m-\u001b[0m \u001b[0;36m1\u001b[0m\u001b[0;34m)\u001b[0m\u001b[0;34m:\u001b[0m\u001b[0;34m\u001b[0m\u001b[0;34m\u001b[0m\u001b[0m\n",
      "\u001b[0;32m~/Documentos/py-mstream/mstream/clusterfeature.py\u001b[0m in \u001b[0;36msample_and_add\u001b[0;34m(self, doc)\u001b[0m\n\u001b[1;32m     38\u001b[0m         \u001b[0;32mif\u001b[0m \u001b[0mself\u001b[0m\u001b[0;34m.\u001b[0m\u001b[0m__num_total_docs\u001b[0m \u001b[0;34m==\u001b[0m \u001b[0;36m0\u001b[0m\u001b[0;34m:\u001b[0m\u001b[0;34m\u001b[0m\u001b[0;34m\u001b[0m\u001b[0m\n\u001b[1;32m     39\u001b[0m             \u001b[0mcluster_id\u001b[0m \u001b[0;34m=\u001b[0m \u001b[0mself\u001b[0m\u001b[0;34m.\u001b[0m\u001b[0m__idpool\u001b[0m\u001b[0;34m.\u001b[0m\u001b[0macquire\u001b[0m\u001b[0;34m(\u001b[0m\u001b[0;34m)\u001b[0m\u001b[0;34m\u001b[0m\u001b[0;34m\u001b[0m\u001b[0m\n\u001b[0;32m---> 40\u001b[0;31m         \u001b[0;32melse\u001b[0m\u001b[0;34m:\u001b[0m\u001b[0;34m\u001b[0m\u001b[0;34m\u001b[0m\u001b[0m\n\u001b[0m\u001b[1;32m     41\u001b[0m             \u001b[0mcluster_id\u001b[0m \u001b[0;34m=\u001b[0m \u001b[0mself\u001b[0m\u001b[0;34m.\u001b[0m\u001b[0m__sample_cluster\u001b[0m\u001b[0;34m(\u001b[0m\u001b[0mdoc\u001b[0m\u001b[0;34m)\u001b[0m\u001b[0;34m\u001b[0m\u001b[0;34m\u001b[0m\u001b[0m\n\u001b[1;32m     42\u001b[0m         \u001b[0mself\u001b[0m\u001b[0;34m.\u001b[0m\u001b[0m__add\u001b[0m\u001b[0;34m(\u001b[0m\u001b[0mdoc\u001b[0m\u001b[0;34m,\u001b[0m \u001b[0mcluster_id\u001b[0m\u001b[0;34m)\u001b[0m\u001b[0;34m\u001b[0m\u001b[0;34m\u001b[0m\u001b[0m\n",
      "\u001b[0;32m~/Documentos/py-mstream/mstream/clusterfeature.py\u001b[0m in \u001b[0;36m__sample_cluster\u001b[0;34m(self, doc)\u001b[0m\n\u001b[1;32m     51\u001b[0m         \u001b[0;32mreturn\u001b[0m \u001b[0mcluster_id\u001b[0m\u001b[0;34m\u001b[0m\u001b[0;34m\u001b[0m\u001b[0m\n\u001b[1;32m     52\u001b[0m \u001b[0;34m\u001b[0m\u001b[0m\n\u001b[0;32m---> 53\u001b[0;31m     \u001b[0;32mdef\u001b[0m \u001b[0m__sample_cluster\u001b[0m\u001b[0;34m(\u001b[0m\u001b[0mself\u001b[0m\u001b[0;34m,\u001b[0m \u001b[0mdoc\u001b[0m\u001b[0;34m)\u001b[0m\u001b[0;34m:\u001b[0m\u001b[0;34m\u001b[0m\u001b[0;34m\u001b[0m\u001b[0m\n\u001b[0m\u001b[1;32m     54\u001b[0m         \u001b[0mvalues\u001b[0m\u001b[0;34m,\u001b[0m \u001b[0mcluster_dist\u001b[0m \u001b[0;34m=\u001b[0m \u001b[0mself\u001b[0m\u001b[0;34m.\u001b[0m\u001b[0m__cluster_dist\u001b[0m\u001b[0;34m(\u001b[0m\u001b[0mdoc\u001b[0m\u001b[0;34m)\u001b[0m\u001b[0;34m\u001b[0m\u001b[0;34m\u001b[0m\u001b[0m\n\u001b[1;32m     55\u001b[0m         \u001b[0;31m# from IPython.core.debugger import set_trace; set_trace()\u001b[0m\u001b[0;34m\u001b[0m\u001b[0;34m\u001b[0m\u001b[0;34m\u001b[0m\u001b[0m\n",
      "\u001b[0;32m~/Documentos/py-mstream/mstream/clusterfeature.py\u001b[0m in \u001b[0;36m__cluster_dist\u001b[0;34m(self, doc)\u001b[0m\n\u001b[1;32m     78\u001b[0m         )\n\u001b[1;32m     79\u001b[0m         \u001b[0mdist\u001b[0m \u001b[0;34m=\u001b[0m \u001b[0mnp\u001b[0m\u001b[0;34m.\u001b[0m\u001b[0mzeros\u001b[0m\u001b[0;34m(\u001b[0m\u001b[0mlen\u001b[0m\u001b[0;34m(\u001b[0m\u001b[0mself\u001b[0m\u001b[0;34m.\u001b[0m\u001b[0m__cluster_features\u001b[0m\u001b[0;34m)\u001b[0m \u001b[0;34m+\u001b[0m \u001b[0;36m1\u001b[0m\u001b[0;34m)\u001b[0m\u001b[0;34m\u001b[0m\u001b[0;34m\u001b[0m\u001b[0m\n\u001b[0;32m---> 80\u001b[0;31m         \u001b[0;32mfor\u001b[0m \u001b[0mi\u001b[0m\u001b[0;34m,\u001b[0m \u001b[0mcluster_id\u001b[0m \u001b[0;32min\u001b[0m \u001b[0menumerate\u001b[0m\u001b[0;34m(\u001b[0m\u001b[0mself\u001b[0m\u001b[0;34m.\u001b[0m\u001b[0m__cluster_features\u001b[0m\u001b[0;34m)\u001b[0m\u001b[0;34m:\u001b[0m\u001b[0;34m\u001b[0m\u001b[0;34m\u001b[0m\u001b[0m\n\u001b[0m\u001b[1;32m     81\u001b[0m             dist[i] = _old_cluster_prob(\n\u001b[1;32m     82\u001b[0m                 \u001b[0mdoc\u001b[0m\u001b[0;34m,\u001b[0m\u001b[0;34m\u001b[0m\u001b[0;34m\u001b[0m\u001b[0m\n",
      "\u001b[0;32m~/Documentos/py-mstream/mstream/clusterfeature.py\u001b[0m in \u001b[0;36m_old_cluster_prob\u001b[0;34m(doc, cluster, vocab_size, num_total_docs, alpha, beta)\u001b[0m\n\u001b[1;32m    169\u001b[0m             \u001b[0mnumerator\u001b[0m \u001b[0;34m*=\u001b[0m \u001b[0mword_freq\u001b[0m \u001b[0;34m+\u001b[0m \u001b[0mbeta\u001b[0m \u001b[0;34m+\u001b[0m \u001b[0mj\u001b[0m \u001b[0;34m-\u001b[0m \u001b[0;36m1\u001b[0m\u001b[0;34m\u001b[0m\u001b[0;34m\u001b[0m\u001b[0m\n\u001b[1;32m    170\u001b[0m     \u001b[0mdenominator\u001b[0m \u001b[0;34m=\u001b[0m \u001b[0;36m1\u001b[0m\u001b[0;34m\u001b[0m\u001b[0;34m\u001b[0m\u001b[0m\n\u001b[0;32m--> 171\u001b[0;31m     \u001b[0;32mfor\u001b[0m \u001b[0mi\u001b[0m \u001b[0;32min\u001b[0m \u001b[0mrange\u001b[0m\u001b[0;34m(\u001b[0m\u001b[0;36m1\u001b[0m\u001b[0;34m,\u001b[0m \u001b[0mlen\u001b[0m\u001b[0;34m(\u001b[0m\u001b[0mdoc\u001b[0m\u001b[0;34m)\u001b[0m \u001b[0;34m+\u001b[0m \u001b[0;36m1\u001b[0m\u001b[0;34m)\u001b[0m\u001b[0;34m:\u001b[0m\u001b[0;34m\u001b[0m\u001b[0;34m\u001b[0m\u001b[0m\n\u001b[0m\u001b[1;32m    172\u001b[0m         \u001b[0mdenominator\u001b[0m \u001b[0;34m*=\u001b[0m \u001b[0mcluster\u001b[0m\u001b[0;34m.\u001b[0m\u001b[0mnum_words\u001b[0m\u001b[0;34m(\u001b[0m\u001b[0;34m)\u001b[0m \u001b[0;34m+\u001b[0m \u001b[0mvocab_size\u001b[0m \u001b[0;34m*\u001b[0m \u001b[0mbeta\u001b[0m \u001b[0;34m+\u001b[0m \u001b[0mi\u001b[0m \u001b[0;34m-\u001b[0m \u001b[0;36m1\u001b[0m\u001b[0;34m\u001b[0m\u001b[0;34m\u001b[0m\u001b[0m\n\u001b[1;32m    173\u001b[0m     \u001b[0mp_sim\u001b[0m \u001b[0;34m=\u001b[0m \u001b[0mnumerator\u001b[0m \u001b[0;34m/\u001b[0m \u001b[0mdenominator\u001b[0m\u001b[0;34m\u001b[0m\u001b[0;34m\u001b[0m\u001b[0m\n",
      "\u001b[0;32m~/Documentos/py-mstream/mstream/clusterfeature.py\u001b[0m in \u001b[0;36mnum_words\u001b[0;34m(self)\u001b[0m\n\u001b[1;32m    138\u001b[0m     \u001b[0;32mdef\u001b[0m \u001b[0mnum_docs\u001b[0m\u001b[0;34m(\u001b[0m\u001b[0mself\u001b[0m\u001b[0;34m)\u001b[0m\u001b[0;34m:\u001b[0m\u001b[0;34m\u001b[0m\u001b[0;34m\u001b[0m\u001b[0m\n\u001b[1;32m    139\u001b[0m         \u001b[0;32mreturn\u001b[0m \u001b[0mself\u001b[0m\u001b[0;34m.\u001b[0m\u001b[0m__m_z\u001b[0m\u001b[0;34m\u001b[0m\u001b[0;34m\u001b[0m\u001b[0m\n\u001b[0;32m--> 140\u001b[0;31m \u001b[0;34m\u001b[0m\u001b[0m\n\u001b[0m\u001b[1;32m    141\u001b[0m     \u001b[0;32mdef\u001b[0m \u001b[0mnum_words\u001b[0m\u001b[0;34m(\u001b[0m\u001b[0mself\u001b[0m\u001b[0;34m)\u001b[0m\u001b[0;34m:\u001b[0m\u001b[0;34m\u001b[0m\u001b[0;34m\u001b[0m\u001b[0m\n\u001b[1;32m    142\u001b[0m         \u001b[0;32mreturn\u001b[0m \u001b[0mself\u001b[0m\u001b[0;34m.\u001b[0m\u001b[0m__n_z\u001b[0m\u001b[0;34m\u001b[0m\u001b[0;34m\u001b[0m\u001b[0m\n",
      "\u001b[0;31mKeyboardInterrupt\u001b[0m: "
     ]
    },
    {
     "data": {
      "application/javascript": [
       "\n",
       "            setTimeout(function() {\n",
       "                var nbb_cell_id = 11;\n",
       "                var nbb_unformatted_code = \"num_batches = 16\\nmax_num_iter = 11\\nnum_iters = list(range(1, max_num_iter))\\nds_nmis = []\\nfor ds_path in DS_PATHS:\\n    num_total_docs = sum([len(batch) for batch in load_batches(ds_path)])\\n    batch_size = math.ceil(num_total_docs / num_batches)\\n    batch_size = 1\\n    nmis = []\\n    for num_iter in num_iters:\\n        mstream = Mstream(num_iter)\\n        y_hat = []\\n        y = []\\n        for parsed_docs in load_batches(ds_path, batch_size):\\n            y += [doc[\\\"clusterNo\\\"] for doc in parsed_docs]\\n            y_hat += mstream.process(transform(parsed_docs))\\n        nmi = normalized_mutual_info_score(y, y_hat)\\n        nmis.append(nmi)\\n    ds_nmis.append(nmis)\";\n",
       "                var nbb_formatted_code = \"num_batches = 16\\nmax_num_iter = 11\\nnum_iters = list(range(1, max_num_iter))\\nds_nmis = []\\nfor ds_path in DS_PATHS:\\n    num_total_docs = sum([len(batch) for batch in load_batches(ds_path)])\\n    batch_size = math.ceil(num_total_docs / num_batches)\\n    batch_size = 1\\n    nmis = []\\n    for num_iter in num_iters:\\n        mstream = Mstream(num_iter)\\n        y_hat = []\\n        y = []\\n        for parsed_docs in load_batches(ds_path, batch_size):\\n            y += [doc[\\\"clusterNo\\\"] for doc in parsed_docs]\\n            y_hat += mstream.process(transform(parsed_docs))\\n        nmi = normalized_mutual_info_score(y, y_hat)\\n        nmis.append(nmi)\\n    ds_nmis.append(nmis)\";\n",
       "                var nbb_cells = Jupyter.notebook.get_cells();\n",
       "                for (var i = 0; i < nbb_cells.length; ++i) {\n",
       "                    if (nbb_cells[i].input_prompt_number == nbb_cell_id) {\n",
       "                        if (nbb_cells[i].get_text() == nbb_unformatted_code) {\n",
       "                             nbb_cells[i].set_text(nbb_formatted_code);\n",
       "                        }\n",
       "                        break;\n",
       "                    }\n",
       "                }\n",
       "            }, 500);\n",
       "            "
      ],
      "text/plain": [
       "<IPython.core.display.Javascript object>"
      ]
     },
     "metadata": {},
     "output_type": "display_data"
    }
   ],
   "source": [
    "num_batches = 16\n",
    "max_num_iter = 11\n",
    "num_iters = list(range(1, max_num_iter))\n",
    "ds_nmis = []\n",
    "for ds_path in DS_PATHS:\n",
    "    num_total_docs = sum([len(batch) for batch in load_batches(ds_path)])\n",
    "    batch_size = math.ceil(num_total_docs / num_batches)\n",
    "    batch_size = 1\n",
    "    nmis = []\n",
    "    for num_iter in num_iters:\n",
    "        mstream = Mstream(num_iter)\n",
    "        y_hat = []\n",
    "        y = []\n",
    "        for parsed_docs in load_batches(ds_path, batch_size):\n",
    "            y += [doc[\"clusterNo\"] for doc in parsed_docs]\n",
    "            y_hat += mstream.process(transform(parsed_docs))\n",
    "        nmi = normalized_mutual_info_score(y, y_hat)\n",
    "        nmis.append(nmi)\n",
    "    ds_nmis.append(nmis)"
   ]
  },
  {
   "cell_type": "code",
   "execution_count": 30,
   "metadata": {},
   "outputs": [
    {
     "data": {
      "text/plain": [
       "<matplotlib.legend.Legend at 0x7f71a6aa7760>"
      ]
     },
     "execution_count": 30,
     "metadata": {},
     "output_type": "execute_result"
    },
    {
     "data": {
      "image/png": "[encoded data removed]",
      "text/plain": [
       "<Figure size 432x288 with 1 Axes>"
      ]
     },
     "metadata": {},
     "output_type": "display_data"
    },
    {
     "data": {
      "application/javascript": [
       "\n",
       "            setTimeout(function() {\n",
       "                var nbb_cell_id = 30;\n",
       "                var nbb_unformatted_code = \"fig, ax = plt.subplots()\\nax.set_title(\\\"NMI wrt num. iterations\\\")\\nax.set_xlabel(\\\"num. iterations\\\")\\nax.set_ylabel(\\\"NMI\\\")\\n# ax.set_yticks(np.arange(0.5, 1.1, step=0.1))\\nax.set_ylim(0.5, 1)\\nfor i, ds_nmi in enumerate(ds_nmis):\\n    ax.plot(num_iters, ds_nmi, label=DS_NAMES[i])\\nax.legend()\";\n",
       "                var nbb_formatted_code = \"fig, ax = plt.subplots()\\nax.set_title(\\\"NMI wrt num. iterations\\\")\\nax.set_xlabel(\\\"num. iterations\\\")\\nax.set_ylabel(\\\"NMI\\\")\\n# ax.set_yticks(np.arange(0.5, 1.1, step=0.1))\\nax.set_ylim(0.5, 1)\\nfor i, ds_nmi in enumerate(ds_nmis):\\n    ax.plot(num_iters, ds_nmi, label=DS_NAMES[i])\\nax.legend()\";\n",
       "                var nbb_cells = Jupyter.notebook.get_cells();\n",
       "                for (var i = 0; i < nbb_cells.length; ++i) {\n",
       "                    if (nbb_cells[i].input_prompt_number == nbb_cell_id) {\n",
       "                        if (nbb_cells[i].get_text() == nbb_unformatted_code) {\n",
       "                             nbb_cells[i].set_text(nbb_formatted_code);\n",
       "                        }\n",
       "                        break;\n",
       "                    }\n",
       "                }\n",
       "            }, 500);\n",
       "            "
      ],
      "text/plain": [
       "<IPython.core.display.Javascript object>"
      ]
     },
     "metadata": {},
     "output_type": "display_data"
    }
   ],
   "source": [
    "fig, ax = plt.subplots()\n",
    "ax.set_title(\"NMI wrt num. iterations\")\n",
    "ax.set_xlabel(\"num. iterations\")\n",
    "ax.set_ylabel(\"NMI\")\n",
    "# ax.set_yticks(np.arange(0.5, 1.1, step=0.1))\n",
    "ax.set_ylim(0.5, 1)\n",
    "for i, ds_nmi in enumerate(ds_nmis):\n",
    "    ax.plot(num_iters, ds_nmi, label=DS_NAMES[i])\n",
    "ax.legend()"
   ]
  }
 ],
 "metadata": {
  "kernelspec": {
   "display_name": "Python 3",
   "language": "python",
   "name": "python3"
  },
  "language_info": {
   "codemirror_mode": {
    "name": "ipython",
    "version": 3
   },
   "file_extension": ".py",
   "mimetype": "text/x-python",
   "name": "python",
   "nbconvert_exporter": "python",
   "pygments_lexer": "ipython3",
   "version": "3.8.0"
  }
 },
 "nbformat": 4,
 "nbformat_minor": 4
}
